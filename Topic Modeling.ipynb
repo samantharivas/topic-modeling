{
 "cells": [
  {
   "cell_type": "markdown",
   "id": "bce2bb89",
   "metadata": {},
   "source": [
    "# ADS 509 Assignment 5.1: Topic Modeling\n",
    "\n",
    "This notebook holds Assignment 5.1 for Module 5 in ADS 509, Applied Text Mining. Work through this notebook, writing code and answering questions where required. \n",
    "\n",
    "In this assignment you will work with a categorical corpus that accompanies `nltk`. You will build the three types of topic models described in Chapter 8 of _Blueprints for Text Analytics using Python_: NMF, LSA, and LDA. You will compare these models to the true categories. \n"
   ]
  },
  {
   "cell_type": "markdown",
   "id": "d87e2c06",
   "metadata": {},
   "source": [
    "## General Assignment Instructions\n",
    "\n",
    "These instructions are included in every assignment, to remind you of the coding standards for the class. Feel free to delete this cell after reading it. \n",
    "\n",
    "One sign of mature code is conforming to a style guide. We recommend the [Google Python Style Guide](https://google.github.io/styleguide/pyguide.html). If you use a different style guide, please include a cell with a link. \n",
    "\n",
    "Your code should be relatively easy-to-read, sensibly commented, and clean. Writing code is a messy process, so please be sure to edit your final submission. Remove any cells that are not needed or parts of cells that contain unnecessary code. Remove inessential `import` statements and make sure that all such statements are moved into the designated cell. \n",
    "\n",
    "Make use of non-code cells for written commentary. These cells should be grammatical and clearly written. In some of these cells you will have questions to answer. The questions will be marked by a \"Q:\" and will have a corresponding \"A:\" spot for you. *Make sure to answer every question marked with a `Q:` for full credit.* \n"
   ]
  },
  {
   "cell_type": "code",
   "execution_count": 1,
   "id": "a85bce08",
   "metadata": {},
   "outputs": [
    {
     "name": "stderr",
     "output_type": "stream",
     "text": [
      "[nltk_data] Downloading package brown to\n",
      "[nltk_data]     /Users/samantharivas/nltk_data...\n",
      "[nltk_data]   Package brown is already up-to-date!\n",
      "[nltk_data] Downloading package stopwords to\n",
      "[nltk_data]     /Users/samantharivas/nltk_data...\n",
      "[nltk_data]   Package stopwords is already up-to-date!\n",
      "/Users/samantharivas/.local/lib/python3.9/site-packages/pandas/core/computation/expressions.py:21: UserWarning: Pandas requires version '2.8.4' or newer of 'numexpr' (version '2.8.3' currently installed).\n",
      "  from pandas.core.computation.check import NUMEXPR_INSTALLED\n",
      "/Users/samantharivas/.local/lib/python3.9/site-packages/pandas/core/arrays/masked.py:60: UserWarning: Pandas requires version '1.3.6' or newer of 'bottleneck' (version '1.3.5' currently installed).\n",
      "  from pandas.core import (\n"
     ]
    }
   ],
   "source": [
    "# These libraries may be useful to you\n",
    "\n",
    "#!pip install pyLDAvis==3.4.1 --user  #You need to restart the Kernel after installation.\n",
    "# You also need a Python version => 3.9.0\n",
    "import nltk\n",
    "nltk.download('brown')\n",
    "nltk.download('stopwords')\n",
    "\n",
    "from nltk.corpus import brown\n",
    "\n",
    "import numpy as np\n",
    "import pandas as pd\n",
    "from tqdm.auto import tqdm\n",
    "\n",
    "import pyLDAvis\n",
    "import pyLDAvis.lda_model\n",
    "import pyLDAvis.gensim_models\n",
    "\n",
    "import spacy\n",
    "import en_core_web_sm\n",
    "from sklearn.feature_extraction.text import TfidfVectorizer, CountVectorizer\n",
    "from sklearn.decomposition import NMF, TruncatedSVD, LatentDirichletAllocation\n",
    "\n",
    "from spacy.lang.en.stop_words import STOP_WORDS as stopwords\n",
    "import en_core_web_sm\n",
    "\n",
    "from collections import Counter, defaultdict\n",
    "\n",
    "nlp = en_core_web_sm.load()"
   ]
  },
  {
   "cell_type": "code",
   "execution_count": 2,
   "id": "a218df60",
   "metadata": {},
   "outputs": [],
   "source": [
    "# add any additional libaries you need here\n",
    "\n",
    "#!pip install spacy\n",
    "\n",
    "from sklearn.feature_extraction.text import CountVectorizer\n",
    "from sklearn.decomposition import LatentDirichletAllocation"
   ]
  },
  {
   "cell_type": "code",
   "execution_count": 3,
   "id": "494de237",
   "metadata": {},
   "outputs": [],
   "source": [
    "# This function comes from the BTAP repo.\n",
    "\n",
    "def display_topics(model, features, no_top_words=5):\n",
    "    for topic, words in enumerate(model.components_):\n",
    "        total = words.sum()\n",
    "        largest = words.argsort()[::-1] # invert sort order\n",
    "        print(\"\\nTopic %02d\" % topic)\n",
    "        for i in range(0, no_top_words):\n",
    "            print(\"  %s (%2.2f)\" % (features[largest[i]], abs(words[largest[i]]*100.0/total)))"
   ]
  },
  {
   "cell_type": "markdown",
   "id": "a30a901c",
   "metadata": {},
   "source": [
    "## Getting to Know the Brown Corpus\n",
    "\n",
    "Let's spend a bit of time getting to know what's in the Brown corpus, our NLTK example of an \"overlapping\" corpus."
   ]
  },
  {
   "cell_type": "code",
   "execution_count": 4,
   "id": "457c59ed",
   "metadata": {},
   "outputs": [
    {
     "name": "stdout",
     "output_type": "stream",
     "text": [
      "For adventure we have 29 articles.\n",
      "For belles_lettres we have 75 articles.\n",
      "For editorial we have 27 articles.\n",
      "For fiction we have 29 articles.\n",
      "For government we have 30 articles.\n",
      "For hobbies we have 36 articles.\n",
      "For humor we have 9 articles.\n",
      "For learned we have 80 articles.\n",
      "For lore we have 48 articles.\n",
      "For mystery we have 24 articles.\n",
      "For news we have 44 articles.\n",
      "For religion we have 17 articles.\n",
      "For reviews we have 17 articles.\n",
      "For romance we have 29 articles.\n",
      "For science_fiction we have 6 articles.\n"
     ]
    }
   ],
   "source": [
    "# categories of articles in Brown corpus\n",
    "for category in brown.categories() :\n",
    "    print(f\"For {category} we have {len(brown.fileids(categories=category))} articles.\")"
   ]
  },
  {
   "cell_type": "markdown",
   "id": "23fb133c",
   "metadata": {},
   "source": [
    "Let's create a dataframe of the articles in of hobbies, editorial, government, news, and romance."
   ]
  },
  {
   "cell_type": "code",
   "execution_count": 5,
   "id": "18f50b9d",
   "metadata": {},
   "outputs": [
    {
     "data": {
      "text/plain": [
       "(166, 3)"
      ]
     },
     "execution_count": 5,
     "metadata": {},
     "output_type": "execute_result"
    }
   ],
   "source": [
    "categories = ['editorial','government','news','romance','hobbies'] \n",
    "\n",
    "category_list = []\n",
    "file_ids = []\n",
    "texts = []\n",
    "\n",
    "for category in categories : \n",
    "    for file_id in brown.fileids(categories=category) :\n",
    "        \n",
    "        # build some lists for a dataframe\n",
    "        category_list.append(category)\n",
    "        file_ids.append(file_id)\n",
    "        \n",
    "        text = brown.words(fileids=file_id)\n",
    "        texts.append(\" \".join(text))\n",
    "\n",
    "        \n",
    "        \n",
    "df = pd.DataFrame()\n",
    "df['category'] = category_list\n",
    "df['id'] = file_ids\n",
    "df['text'] = texts \n",
    "\n",
    "df.shape"
   ]
  },
  {
   "cell_type": "code",
   "execution_count": 6,
   "id": "586f47de",
   "metadata": {},
   "outputs": [],
   "source": [
    "# Let's add some helpful columns on the df\n",
    "df['char_len'] = df['text'].apply(len)\n",
    "df['word_len'] = df['text'].apply(lambda x: len(x.split()))"
   ]
  },
  {
   "cell_type": "code",
   "execution_count": 7,
   "id": "2128fd2d",
   "metadata": {},
   "outputs": [
    {
     "data": {
      "text/plain": [
       "<AxesSubplot:xlabel='category'>"
      ]
     },
     "execution_count": 7,
     "metadata": {},
     "output_type": "execute_result"
    },
    {
     "data": {
      "image/png": "[encoded data removed]",
      "text/plain": [
       "<Figure size 1000x600 with 1 Axes>"
      ]
     },
     "metadata": {},
     "output_type": "display_data"
    }
   ],
   "source": [
    "%matplotlib inline\n",
    "df.groupby('category').agg({'word_len': 'mean'}).plot.bar(figsize=(10,6))"
   ]
  },
  {
   "cell_type": "markdown",
   "id": "554ffeb5",
   "metadata": {},
   "source": [
    "Now do our TF-IDF and Count vectorizations."
   ]
  },
  {
   "cell_type": "code",
   "execution_count": 8,
   "id": "21a7d247",
   "metadata": {},
   "outputs": [
    {
     "name": "stderr",
     "output_type": "stream",
     "text": [
      "/Users/samantharivas/opt/anaconda3/lib/python3.9/site-packages/sklearn/feature_extraction/text.py:396: UserWarning: Your stop_words may be inconsistent with your preprocessing. Tokenizing the stop words generated tokens ['ll', 've'] not in stop_words.\n",
      "  warnings.warn(\n"
     ]
    },
    {
     "data": {
      "text/plain": [
       "(166, 4941)"
      ]
     },
     "execution_count": 8,
     "metadata": {},
     "output_type": "execute_result"
    }
   ],
   "source": [
    "count_text_vectorizer = CountVectorizer(stop_words=list(stopwords), min_df=5, max_df=0.7)\n",
    "count_text_vectors = count_text_vectorizer.fit_transform(df[\"text\"])\n",
    "count_text_vectors.shape"
   ]
  },
  {
   "cell_type": "code",
   "execution_count": 9,
   "id": "875deba9",
   "metadata": {},
   "outputs": [
    {
     "data": {
      "text/plain": [
       "(166, 4941)"
      ]
     },
     "execution_count": 9,
     "metadata": {},
     "output_type": "execute_result"
    }
   ],
   "source": [
    "tfidf_text_vectorizer = TfidfVectorizer(stop_words=list(stopwords), min_df=5, max_df=0.7)\n",
    "tfidf_text_vectors = tfidf_text_vectorizer.fit_transform(df['text'])\n",
    "tfidf_text_vectors.shape"
   ]
  },
  {
   "cell_type": "markdown",
   "id": "a1062b21",
   "metadata": {},
   "source": [
    "Q: What do the two data frames `count_text_vectors` and `tfidf_text_vectors` hold? \n",
    "\n",
    "A: The `count_text_vectors` contains a term-document matrix generated by the `CountVectorizer`. Each row represents an article from the Brown corpus, and each column represents a unique term from the corpus. The matrix holds the frequency of each term in each document without considering the term's weight or importance.\n",
    "\n",
    "The `tfidf_text_vectors` is similar to the `count_text_vectors` in that each row represents a document and each column represents a unique term from the corpus. However, the values in this matrix are the TF-IDF scores, which consider both the frequency and the importance of the terms. The TF-IDF scores adjust the term frequencies by considering how common or rare the terms are across all documents in the corpus. This gives more weight to terms that are unique or less common in the corpus, reflecting their importance."
   ]
  },
  {
   "cell_type": "markdown",
   "id": "f77c3f94",
   "metadata": {},
   "source": [
    "## Fitting a Non-Negative Matrix Factorization Model\n",
    "\n",
    "In this section the code to fit a five-topic NMF model has already been written. This code comes directly from the [BTAP repo](https://github.com/blueprints-for-text-analytics-python/blueprints-text), which will help you tremendously in the coming sections. "
   ]
  },
  {
   "cell_type": "code",
   "execution_count": 10,
   "id": "d28745a3",
   "metadata": {},
   "outputs": [
    {
     "name": "stderr",
     "output_type": "stream",
     "text": [
      "/Users/samantharivas/opt/anaconda3/lib/python3.9/site-packages/sklearn/decomposition/_nmf.py:289: FutureWarning: The 'init' value, when 'init=None' and n_components is less than n_samples and n_features, will be changed from 'nndsvd' to 'nndsvda' in 1.1 (renaming of 0.26).\n",
      "  warnings.warn(\n"
     ]
    }
   ],
   "source": [
    "nmf_text_model = NMF(n_components=5, random_state=314)\n",
    "W_text_matrix = nmf_text_model.fit_transform(tfidf_text_vectors)\n",
    "H_text_matrix = nmf_text_model.components_"
   ]
  },
  {
   "cell_type": "code",
   "execution_count": 11,
   "id": "a67185e7",
   "metadata": {},
   "outputs": [
    {
     "name": "stdout",
     "output_type": "stream",
     "text": [
      "\n",
      "Topic 00\n",
      "  mr (0.51)\n",
      "  president (0.45)\n",
      "  kennedy (0.43)\n",
      "  united (0.42)\n",
      "  khrushchev (0.40)\n",
      "\n",
      "Topic 01\n",
      "  said (0.88)\n",
      "  didn (0.46)\n",
      "  ll (0.45)\n",
      "  thought (0.42)\n",
      "  man (0.37)\n",
      "\n",
      "Topic 02\n",
      "  state (0.40)\n",
      "  development (0.36)\n",
      "  tax (0.33)\n",
      "  sales (0.30)\n",
      "  program (0.25)\n",
      "\n",
      "Topic 03\n",
      "  mrs (2.61)\n",
      "  mr (0.78)\n",
      "  said (0.64)\n",
      "  miss (0.52)\n",
      "  car (0.51)\n",
      "\n",
      "Topic 04\n",
      "  game (1.01)\n",
      "  league (0.74)\n",
      "  ball (0.72)\n",
      "  baseball (0.71)\n",
      "  team (0.66)\n"
     ]
    }
   ],
   "source": [
    "display_topics(nmf_text_model, tfidf_text_vectorizer.get_feature_names_out())"
   ]
  },
  {
   "cell_type": "markdown",
   "id": "fee51e9b",
   "metadata": {},
   "source": [
    "Now some work for you to do. Compare the NMF categorization to the original categories from the Brown Corpus.\n",
    "\n",
    "We are interested in the extent to which our NMF categorization agrees or disagrees with the original categories in the corpus. For each topic in your NMF model, tally the Brown categories and interpret the results. \n"
   ]
  },
  {
   "cell_type": "code",
   "execution_count": 12,
   "id": "7c8c8eb0",
   "metadata": {},
   "outputs": [],
   "source": [
    "# find dominant topic for document \n",
    "df['nmf_topic'] = W_text_matrix.argmax(axis=1)"
   ]
  },
  {
   "cell_type": "code",
   "execution_count": 13,
   "id": "5638747f",
   "metadata": {},
   "outputs": [
    {
     "name": "stdout",
     "output_type": "stream",
     "text": [
      "\n",
      "Topic 00:\n",
      "  editorial: 20\n",
      "  government: 4\n",
      "  news: 8\n",
      "\n",
      "Topic 01:\n",
      "  editorial: 4\n",
      "  romance: 29\n",
      "  hobbies: 8\n",
      "\n",
      "Topic 02:\n",
      "  editorial: 2\n",
      "  government: 26\n",
      "  news: 11\n",
      "  hobbies: 26\n",
      "\n",
      "Topic 03:\n",
      "  news: 17\n",
      "  hobbies: 1\n",
      "\n",
      "Topic 04:\n",
      "  editorial: 1\n",
      "  news: 8\n",
      "  hobbies: 1\n"
     ]
    }
   ],
   "source": [
    "# create dictionary to hold tally of categories per topic\n",
    "topic_category_tally = {i: defaultdict(int) for i in range(nmf_text_model.n_components)}\n",
    "\n",
    "# tally categories\n",
    "for index, row in df.iterrows():\n",
    "    topic = row['nmf_topic']\n",
    "    category = row['category']\n",
    "    topic_category_tally[topic][category] += 1\n",
    "\n",
    "for topic, category_count in topic_category_tally.items():\n",
    "    print(f\"\\nTopic {topic:02d}:\")\n",
    "    for category, count in category_count.items():\n",
    "        print(f\"  {category}: {count}\")"
   ]
  },
  {
   "cell_type": "markdown",
   "id": "f8d4e2bc",
   "metadata": {},
   "source": [
    "Q: How does your five-topic NMF model compare to the original Brown categories? \n",
    "\n",
    "A: The comparison between the five-topic NMF model and the original Brown categories shows how well the model captures the content. Some topics align with categories like politics or leisure activities, while others combine different categories. This indicates that the NMF model uncovers connections and themes within the corpus that may not be immediately evident from the original categorization alone."
   ]
  },
  {
   "cell_type": "markdown",
   "id": "82e37cb5",
   "metadata": {},
   "source": [
    "## Fitting an LSA Model\n",
    "\n",
    "In this section, follow the example from the repository and fit an LSA model (called a \"TruncatedSVD\" in `sklearn`). Again fit a five-topic model and compare it to the actual categories in the Brown corpus. Use the TF-IDF vectors for your fit, as above. \n",
    "\n",
    "To be explicit, we are once again interested in the extent to which this LSA factorization agrees or disagrees with the original categories in the corpus. For each topic in your model, tally the Brown categories and interpret the results. \n"
   ]
  },
  {
   "cell_type": "code",
   "execution_count": 14,
   "id": "00b53d3d",
   "metadata": {},
   "outputs": [],
   "source": [
    "lsa_text_model = TruncatedSVD(n_components=5, random_state=314)\n",
    "lsa_text_matrix = lsa_text_model.fit_transform(tfidf_text_vectors)\n",
    "\n",
    "# create dictionary to hold tally \n",
    "topic_category_tally_lsa = {i: defaultdict(int) for i in range(lsa_text_model.n_components)}"
   ]
  },
  {
   "cell_type": "code",
   "execution_count": 15,
   "id": "8561fa64",
   "metadata": {},
   "outputs": [],
   "source": [
    "# find dominant topic for document\n",
    "df['lsa_topic'] = lsa_text_matrix.argmax(axis=1)"
   ]
  },
  {
   "cell_type": "code",
   "execution_count": 16,
   "id": "fbf60547",
   "metadata": {},
   "outputs": [
    {
     "name": "stdout",
     "output_type": "stream",
     "text": [
      "\n",
      "Topic 00:\n",
      "  editorial: 27\n",
      "  government: 30\n",
      "  news: 34\n",
      "  romance: 21\n",
      "  hobbies: 36\n",
      "\n",
      "Topic 01:\n",
      "  romance: 8\n",
      "\n",
      "Topic 02:\n",
      "\n",
      "Topic 03:\n",
      "  news: 3\n",
      "\n",
      "Topic 04:\n",
      "  news: 7\n"
     ]
    }
   ],
   "source": [
    "# tally categories\n",
    "for index, row in df.iterrows():\n",
    "    topic = row['lsa_topic']\n",
    "    category = row['category']\n",
    "    topic_category_tally_lsa[topic][category] += 1\n",
    "\n",
    "for topic, category_count in topic_category_tally_lsa.items():\n",
    "    print(f\"\\nTopic {topic:02d}:\")\n",
    "    for category, count in category_count.items():\n",
    "        print(f\"  {category}: {count}\")"
   ]
  },
  {
   "cell_type": "markdown",
   "id": "4d94d56f",
   "metadata": {},
   "source": [
    "Q: How does your five-topic LSA model compare to the original Brown categories? \n",
    "\n",
    "A: The comparison between the five-topic LSA model and the original Brown categories displays the effectiveness of the model in capturing the diverse content of the corpus. Similar to the NMF model, some topics in the LSA model align neatly with specific categories such as 'romance' or 'news', providing clear thematic representations within the corpus. Rather other topics demonstrate a lack a clear association, suggesting a more nuanced and varied thematic composition. This indicates that the LSA model, like the NMF model, uncovers connections and themes within the corpus that may not be immediately evident from the original categorization alone."
   ]
  },
  {
   "cell_type": "code",
   "execution_count": 17,
   "id": "377a886e",
   "metadata": {},
   "outputs": [
    {
     "name": "stdout",
     "output_type": "stream",
     "text": [
      "\n",
      "Topic 00\n",
      "  said (0.44)\n",
      "  mr (0.25)\n",
      "  mrs (0.22)\n",
      "  state (0.20)\n",
      "  man (0.17)\n",
      "\n",
      "Topic 01\n",
      "  said (3.89)\n",
      "  ll (2.73)\n",
      "  didn (2.63)\n",
      "  thought (2.20)\n",
      "  got (1.97)\n",
      "\n",
      "Topic 02\n",
      "  mrs (3.12)\n",
      "  mr (1.70)\n",
      "  said (1.06)\n",
      "  kennedy (0.82)\n",
      "  khrushchev (0.77)\n",
      "\n",
      "Topic 03\n",
      "  mrs (29.45)\n",
      "  club (6.53)\n",
      "  game (6.12)\n",
      "  jr (5.60)\n",
      "  university (5.20)\n",
      "\n",
      "Topic 04\n",
      "  game (4.54)\n",
      "  league (3.27)\n",
      "  baseball (3.22)\n",
      "  ball (3.10)\n",
      "  team (2.94)\n"
     ]
    }
   ],
   "source": [
    "display_topics(lsa_text_model, tfidf_text_vectorizer.get_feature_names_out())"
   ]
  },
  {
   "cell_type": "markdown",
   "id": "ea8b280a",
   "metadata": {},
   "source": [
    "Q: What is your interpretation of the display topics output? \n",
    "\n",
    "A: The display_topics output from the LSA model provides insight into the primary themes captured within each topic of the corpus. Topic 00 appears to include general statements and references, while Topic 01 focuses on dialogues and expressions. Topic 02 is centered around individuals and potentially specific events. Rather, Topic 03 emphasizes leisure activities and affiliations. Topic 04 highlights sports and recreational activities. \n",
    "\n",
    "The analysis aids in understanding the thematic elements identified by the LSA model, allowing for a deeper comprehension of the underlying structure of the corpus."
   ]
  },
  {
   "cell_type": "markdown",
   "id": "b4ab4d29",
   "metadata": {},
   "source": [
    "## Fitting an LDA Model\n",
    "\n",
    "Finally, fit a five-topic LDA model using the count vectors (`count_text_vectors` from above). Display the results using `pyLDAvis.display` and describe what you learn from that visualization. "
   ]
  },
  {
   "cell_type": "code",
   "execution_count": 21,
   "id": "46814981",
   "metadata": {},
   "outputs": [],
   "source": [
    "lda_model = LatentDirichletAllocation(n_components=5, random_state=42)\n",
    "lda_model.fit(count_text_vectors)\n",
    "\n",
    "# create dictionary to hold the tally of categories for each topic\n",
    "topic_category_tally_lda = {i: defaultdict(int) for i in range(lda_model.n_components)}"
   ]
  },
  {
   "cell_type": "code",
   "execution_count": 22,
   "id": "f5adb2f1",
   "metadata": {},
   "outputs": [],
   "source": [
    "# find dominant topic for each document\n",
    "df['lda_topic'] = lda_model.transform(count_text_vectors).argmax(axis=1)"
   ]
  },
  {
   "cell_type": "code",
   "execution_count": 23,
   "id": "46ac5b77",
   "metadata": {},
   "outputs": [
    {
     "name": "stdout",
     "output_type": "stream",
     "text": [
      "\n",
      "Topic 00:\n",
      "  editorial: 3\n",
      "  news: 9\n",
      "  hobbies: 16\n",
      "\n",
      "Topic 01:\n",
      "  editorial: 1\n",
      "  government: 20\n",
      "  news: 3\n",
      "  hobbies: 14\n",
      "\n",
      "Topic 02:\n",
      "  editorial: 22\n",
      "  government: 2\n",
      "  news: 31\n",
      "  hobbies: 1\n",
      "\n",
      "Topic 03:\n",
      "  government: 8\n",
      "  news: 1\n",
      "  hobbies: 3\n",
      "\n",
      "Topic 04:\n",
      "  editorial: 1\n",
      "  romance: 29\n",
      "  hobbies: 2\n"
     ]
    }
   ],
   "source": [
    "# tally categories\n",
    "for index, row in df.iterrows():\n",
    "    topic = row['lda_topic']\n",
    "    category = row['category']\n",
    "    topic_category_tally_lda[topic][category] += 1\n",
    "\n",
    "for topic, category_count in topic_category_tally_lda.items():\n",
    "    print(f\"\\nTopic {topic:02d}:\")\n",
    "    for category, count in category_count.items():\n",
    "        print(f\"  {category}: {count}\")"
   ]
  },
  {
   "cell_type": "code",
   "execution_count": 24,
   "id": "ab18adf5",
   "metadata": {},
   "outputs": [
    {
     "name": "stdout",
     "output_type": "stream",
     "text": [
      "\n",
      "Topic 00\n",
      "  home (0.46)\n",
      "  right (0.35)\n",
      "  game (0.35)\n",
      "  way (0.34)\n",
      "  set (0.34)\n",
      "\n",
      "Topic 01\n",
      "  state (0.89)\n",
      "  development (0.57)\n",
      "  states (0.51)\n",
      "  program (0.46)\n",
      "  use (0.44)\n",
      "\n",
      "Topic 02\n",
      "  said (0.93)\n",
      "  mr (0.73)\n",
      "  president (0.63)\n",
      "  state (0.49)\n",
      "  mrs (0.48)\n",
      "\n",
      "Topic 03\n",
      "  feed (0.90)\n",
      "  general (0.73)\n",
      "  business (0.70)\n",
      "  property (0.69)\n",
      "  shall (0.67)\n",
      "\n",
      "Topic 04\n",
      "  said (1.56)\n",
      "  man (0.62)\n",
      "  little (0.62)\n",
      "  old (0.59)\n",
      "  good (0.53)\n"
     ]
    }
   ],
   "source": [
    "# Call `display_topics` on your fitted model here\n",
    "display_topics(lda_model, count_text_vectorizer.get_feature_names_out())"
   ]
  },
  {
   "cell_type": "markdown",
   "id": "f2c67876",
   "metadata": {},
   "source": [
    "Q: What inference do you draw from the displayed topics for your LDA model? \n",
    "\n",
    "A: The displayed topics for the LDA model reveal distinct thematic elements present within the corpus. Each topic appears to represent a different aspect of the text, with certain words exhibiting higher probabilities within specific topics. For example, Topic 00 seems to revolve around general concepts related to home and activities, while Topic 01 focuses more on governmental and developmental themes. Topic 02 discusses individuals and their roles in a political contexts.Topic 03 seems to emphasize business-related terms, and Topic 04 highlights more general descriptive words. \n",
    "\n",
    "\n",
    "Q: Repeat the tallying of Brown categories within your topics. How does your five-topic LDA model compare to the original Brown categories? \n",
    "\n",
    "A: In comparing the five-topic LDA model to the original Brown categories, we find that the model effectively captures the diverse content of the corpus. Similar to the NMF and LSA models, some topics in the LDA model align with specific categories such as 'government' or 'news', providing clear thematic representations within the corpus. However, there are other topics that demonstrate a less clear association with the original categories. This indicates that the LDA model, like the NMF and LSA models, uncovers connections and themes within the corpus that may not be immediately evident from the original categorization alone."
   ]
  },
  {
   "cell_type": "code",
   "execution_count": 26,
   "id": "6aae75ca",
   "metadata": {},
   "outputs": [
    {
     "name": "stderr",
     "output_type": "stream",
     "text": [
      "/Users/samantharivas/.local/lib/python3.9/site-packages/pandas/core/computation/expressions.py:21: UserWarning: Pandas requires version '2.8.4' or newer of 'numexpr' (version '2.8.3' currently installed).\n",
      "  from pandas.core.computation.check import NUMEXPR_INSTALLED\n",
      "/Users/samantharivas/.local/lib/python3.9/site-packages/pandas/core/computation/expressions.py:21: UserWarning: Pandas requires version '2.8.4' or newer of 'numexpr' (version '2.8.3' currently installed).\n",
      "  from pandas.core.computation.check import NUMEXPR_INSTALLED\n",
      "/Users/samantharivas/.local/lib/python3.9/site-packages/pandas/core/arrays/masked.py:60: UserWarning: Pandas requires version '1.3.6' or newer of 'bottleneck' (version '1.3.5' currently installed).\n",
      "  from pandas.core import (\n",
      "/Users/samantharivas/.local/lib/python3.9/site-packages/pandas/core/arrays/masked.py:60: UserWarning: Pandas requires version '1.3.6' or newer of 'bottleneck' (version '1.3.5' currently installed).\n",
      "  from pandas.core import (\n",
      "/Users/samantharivas/.local/lib/python3.9/site-packages/pandas/core/computation/expressions.py:21: UserWarning: Pandas requires version '2.8.4' or newer of 'numexpr' (version '2.8.3' currently installed).\n",
      "  from pandas.core.computation.check import NUMEXPR_INSTALLED\n",
      "/Users/samantharivas/.local/lib/python3.9/site-packages/pandas/core/computation/expressions.py:21: UserWarning: Pandas requires version '2.8.4' or newer of 'numexpr' (version '2.8.3' currently installed).\n",
      "  from pandas.core.computation.check import NUMEXPR_INSTALLED\n",
      "/Users/samantharivas/.local/lib/python3.9/site-packages/pandas/core/arrays/masked.py:60: UserWarning: Pandas requires version '1.3.6' or newer of 'bottleneck' (version '1.3.5' currently installed).\n",
      "  from pandas.core import (\n",
      "/Users/samantharivas/.local/lib/python3.9/site-packages/pandas/core/computation/expressions.py:21: UserWarning: Pandas requires version '2.8.4' or newer of 'numexpr' (version '2.8.3' currently installed).\n",
      "  from pandas.core.computation.check import NUMEXPR_INSTALLED\n",
      "/Users/samantharivas/.local/lib/python3.9/site-packages/pandas/core/arrays/masked.py:60: UserWarning: Pandas requires version '1.3.6' or newer of 'bottleneck' (version '1.3.5' currently installed).\n",
      "  from pandas.core import (\n",
      "/Users/samantharivas/.local/lib/python3.9/site-packages/pandas/core/arrays/masked.py:60: UserWarning: Pandas requires version '1.3.6' or newer of 'bottleneck' (version '1.3.5' currently installed).\n",
      "  from pandas.core import (\n",
      "/Users/samantharivas/.local/lib/python3.9/site-packages/pandas/core/computation/expressions.py:21: UserWarning: Pandas requires version '2.8.4' or newer of 'numexpr' (version '2.8.3' currently installed).\n",
      "  from pandas.core.computation.check import NUMEXPR_INSTALLED\n",
      "/Users/samantharivas/.local/lib/python3.9/site-packages/pandas/core/computation/expressions.py:21: UserWarning: Pandas requires version '2.8.4' or newer of 'numexpr' (version '2.8.3' currently installed).\n",
      "  from pandas.core.computation.check import NUMEXPR_INSTALLED\n",
      "/Users/samantharivas/.local/lib/python3.9/site-packages/pandas/core/arrays/masked.py:60: UserWarning: Pandas requires version '1.3.6' or newer of 'bottleneck' (version '1.3.5' currently installed).\n",
      "  from pandas.core import (\n",
      "/Users/samantharivas/.local/lib/python3.9/site-packages/pandas/core/arrays/masked.py:60: UserWarning: Pandas requires version '1.3.6' or newer of 'bottleneck' (version '1.3.5' currently installed).\n",
      "  from pandas.core import (\n",
      "/Users/samantharivas/.local/lib/python3.9/site-packages/pandas/core/computation/expressions.py:21: UserWarning: Pandas requires version '2.8.4' or newer of 'numexpr' (version '2.8.3' currently installed).\n",
      "  from pandas.core.computation.check import NUMEXPR_INSTALLED\n",
      "/Users/samantharivas/.local/lib/python3.9/site-packages/pandas/core/arrays/masked.py:60: UserWarning: Pandas requires version '1.3.6' or newer of 'bottleneck' (version '1.3.5' currently installed).\n",
      "  from pandas.core import (\n"
     ]
    }
   ],
   "source": [
    "lda_display = pyLDAvis.lda_model.prepare(lda_model, count_text_vectors, count_text_vectorizer, sort_topics=False)"
   ]
  },
  {
   "cell_type": "code",
   "execution_count": 27,
   "id": "2a89fc15",
   "metadata": {},
   "outputs": [
    {
     "data": {
      "text/html": [
       "\n",
       "<link rel=\"stylesheet\" type=\"text/css\" href=\"https://cdn.jsdelivr.net/gh/bmabey/pyLDAvis@3.4.0/pyLDAvis/js/ldavis.v1.0.0.css\">\n",
       "\n",
       "\n",
       "<div id=\"ldavis_el43331404551704324649001919953\" style=\"background-color:white;\"></div>\n",
       "<script type=\"text/javascript\">\n",
       "\n",
       "var ldavis_el43331404551704324649001919953_data = {\"mdsDat\": {\"x\": [-0.08904549103408542, 0.12393644925088806, 0.025500167589226092, 0.15979135455241394, -0.22018248035844262], \"y\": [0.1613561745541381, -0.009252658807315987, -0.048092367940470976, -0.016212399453420158, -0.08779874835293092], \"topics\": [1, 2, 3, 4, 5], \"cluster\": [1, 1, 1, 1, 1], \"Freq\": [17.44727507668698, 24.2459107257983, 32.831236255960924, 7.47034798341901, 18.005229958134787]}, \"tinfo\": {\"Term\": [\"said\", \"government\", \"general\", \"feed\", \"business\", \"united\", \"state\", \"states\", \"shall\", \"property\", \"department\", \"development\", \"act\", \"john\", \"didn\", \"tax\", \"ll\", \"thought\", \"mother\", \"president\", \"little\", \"board\", \"small\", \"local\", \"shelter\", \"don\", \"man\", \"old\", \"kennedy\", \"court\", \"player\", \"baseball\", \"panels\", \"leg\", \"yards\", \"yankees\", \"holes\", \"gallery\", \"vernon\", \"coach\", \"charlie\", \"plastic\", \"hits\", \"ball\", \"pittsburgh\", \"favorite\", \"runs\", \"pitcher\", \"hole\", \"pitching\", \"team\", \"paint\", \"stadium\", \"ruth\", \"willie\", \"bat\", \"homer\", \"amateur\", \"paintings\", \"chest\", \"pieces\", \"games\", \"cooling\", \"drill\", \"roy\", \"clay\", \"game\", \"bob\", \"golf\", \"season\", \"inch\", \"football\", \"playing\", \"hit\", \"frame\", \"piece\", \"league\", \"fig\", \"signs\", \"club\", \"cut\", \"junior\", \"play\", \"green\", \"run\", \"center\", \"home\", \"set\", \"won\", \"right\", \"place\", \"don\", \"second\", \"way\", \"house\", \"ll\", \"good\", \"work\", \"class\", \"mrs\", \"use\", \"left\", \"high\", \"better\", \"best\", \"said\", \"textile\", \"participation\", \"employee\", \"musical\", \"publications\", \"faculty\", \"forests\", \"recreation\", \"inventory\", \"interior\", \"fiscal\", \"producers\", \"imports\", \"creative\", \"designers\", \"maintain\", \"evaluation\", \"academic\", \"depreciation\", \"exceed\", \"coverage\", \"laboratories\", \"curriculum\", \"engineers\", \"expenditures\", \"comprehensive\", \"locations\", \"educated\", \"resources\", \"fishing\", \"rhode\", \"organizations\", \"vehicles\", \"india\", \"development\", \"projects\", \"library\", \"activities\", \"technical\", \"pool\", \"planning\", \"published\", \"import\", \"management\", \"site\", \"island\", \"plant\", \"medical\", \"bridge\", \"state\", \"research\", \"program\", \"industrial\", \"1960\", \"available\", \"corps\", \"system\", \"use\", \"production\", \"states\", \"period\", \"services\", \"important\", \"area\", \"interest\", \"national\", \"united\", \"work\", \"000\", \"service\", \"college\", \"water\", \"company\", \"government\", \"american\", \"business\", \"public\", \"high\", \"kennedy\", \"nuclear\", \"soviet\", \"khrushchev\", \"laos\", \"berlin\", \"congo\", \"republican\", \"moscow\", \"cuba\", \"weapons\", \"senate\", \"castro\", \"sen\", \"charter\", \"troops\", \"hughes\", \"premier\", \"communism\", \"democrats\", \"communists\", \"election\", \"aug\", \"welfare\", \"gen\", \"republicans\", \"katanga\", \"bombs\", \"police\", \"communist\", \"democratic\", \"rayburn\", \"georgia\", \"leader\", \"russia\", \"vote\", \"political\", \"jury\", \"president\", \"committee\", \"mr\", \"mayor\", \"county\", \"party\", \"council\", \"war\", \"mrs\", \"city\", \"meeting\", \"said\", \"east\", \"west\", \"yesterday\", \"nations\", \"000\", \"military\", \"administration\", \"school\", \"state\", \"american\", \"government\", \"public\", \"united\", \"people\", \"week\", \"world\", \"house\", \"states\", \"members\", \"john\", \"national\", \"program\", \"man\", \"home\", \"recommendation\", \"motors\", \"thereof\", \"boats\", \"shelter\", \"feed\", \"cattle\", \"interference\", \"chemical\", \"assessment\", \"catastrophe\", \"boat\", \"tangible\", \"engine\", \"stockholders\", \"conversion\", \"electricity\", \"claim\", \"property\", \"stations\", \"ratio\", \"accommodate\", \"farmers\", \"concrete\", \"battery\", \"pound\", \"blocks\", \"claims\", \"manufactured\", \"63\", \"loans\", \"officer\", \"credit\", \"trust\", \"shall\", \"farm\", \"respect\", \"laws\", \"general\", \"act\", \"business\", \"department\", \"stock\", \"hearing\", \"daily\", \"john\", \"small\", \"government\", \"local\", \"class\", \"board\", \"tax\", \"united\", \"court\", \"policy\", \"service\", \"states\", \"report\", \"head\", \"secretary\", \"pale\", \"smiled\", \"hadn\", \"hair\", \"listening\", \"shoes\", \"loved\", \"hell\", \"sick\", \"liked\", \"mother\", \"stared\", \"heel\", \"wondered\", \"smile\", \"tongue\", \"laughed\", \"handsome\", \"silent\", \"looked\", \"strange\", \"lips\", \"till\", \"dad\", \"dear\", \"fountain\", \"puerto\", \"rico\", \"susan\", \"nodded\", \"wasn\", \"couldn\", \"love\", \"sat\", \"didn\", \"eyes\", \"baby\", \"woman\", \"thought\", \"stood\", \"yes\", \"child\", \"wouldn\", \"knew\", \"alexander\", \"went\", \"father\", \"voice\", \"bed\", \"door\", \"felt\", \"girl\", \"got\", \"know\", \"god\", \"little\", \"said\", \"young\", \"came\", \"ll\", \"away\", \"old\", \"man\", \"boy\", \"come\", \"going\", \"don\", \"let\", \"thing\", \"good\", \"life\", \"way\", \"look\", \"day\", \"asked\", \"people\", \"think\", \"night\"], \"Freq\": [793.0, 274.0, 197.0, 90.0, 207.0, 301.0, 493.0, 334.0, 123.0, 91.0, 155.0, 202.0, 128.0, 165.0, 123.0, 176.0, 165.0, 138.0, 96.0, 298.0, 236.0, 173.0, 207.0, 127.0, 55.0, 175.0, 280.0, 251.0, 131.0, 106.0, 46.90061738279507, 38.32019195875088, 32.60147624919299, 27.831525211454053, 25.92923367532794, 24.965651021853578, 21.162778832210467, 21.155429552015473, 19.254389784454833, 21.947937942987988, 18.280628736886932, 24.504910875563496, 15.442227275155329, 59.06823780924092, 15.42935027285937, 15.42977593570404, 38.066924702019094, 14.482031649232393, 35.292612040869614, 13.535621759504734, 53.26575195711282, 13.51625324623376, 12.58274445157485, 12.582358303937438, 12.582206179585159, 12.580083705056312, 12.57953785716542, 12.577344934489329, 12.576735754565968, 18.818378791886868, 48.98101977616405, 28.516446892422923, 34.18539770126024, 30.685701114865775, 20.29677936391002, 70.92710391222951, 76.4210160309183, 21.85935538465501, 24.064317493411203, 55.75253195087141, 55.41576812531133, 23.17663878239173, 32.955093154491934, 45.29595924457128, 32.17680895813645, 45.65789699624377, 44.088003270410304, 26.856071180115514, 30.029049163988418, 68.24415837156734, 61.47380111399646, 44.51582762921491, 45.17975584948412, 41.74182728863289, 61.56050618593941, 53.24851828557127, 99.24831428743158, 73.15486854806166, 49.90191872032156, 77.17424013092673, 71.06844436634593, 67.45444118433474, 54.7957580712191, 73.85743200897514, 66.50953757158287, 58.07101352684931, 68.45390871103879, 64.722565864295, 48.053470757015866, 59.567487890082504, 57.0772705913322, 52.34860935735858, 52.82355751026617, 50.682057336879964, 49.369099019371184, 51.04430480221182, 28.305925725072374, 24.424933130164767, 24.416582541428458, 20.5444652451977, 19.57779196975788, 51.229524046427876, 15.703268535408933, 34.95910743832323, 16.499023102025767, 39.41961363149075, 105.71631917016941, 10.843150222887756, 10.843191961881868, 15.366030813907903, 10.837350150282665, 18.966346585386308, 8.90980287447348, 27.52900985489834, 8.858011680160264, 14.16026488044896, 12.37711443597969, 7.945091103923981, 7.944499146179809, 26.498449187642635, 24.601887270428204, 6.979551908378141, 6.977825659837775, 6.961783314860127, 35.52040249074207, 16.499841358692883, 77.51764253547518, 34.38058053559414, 38.7797520970374, 33.566598243280914, 171.06640326090888, 47.60581979772406, 40.70073357657619, 50.99879715314294, 50.77495370211009, 65.62205389309972, 69.98216493822912, 23.88231207283271, 22.226309066144573, 67.0306644506675, 43.608897498620934, 90.07056610828147, 63.127240535932984, 76.720741812072, 42.115783775743445, 269.28745480859965, 75.01508583602286, 137.83429234631956, 58.36202478028883, 85.25628829194999, 78.64673686400353, 55.99466247540456, 88.49431784587479, 132.0158601580126, 59.77628464526204, 153.87030346475063, 66.5194170976453, 61.04438701228058, 68.15034258267046, 75.45918600647921, 71.63562137761208, 89.85286077004855, 100.30627971606059, 89.75509366471228, 91.2016309651253, 79.78955096407299, 66.59945264744289, 70.94711198307853, 66.17064226428677, 76.07309911925022, 73.78709559466944, 70.73831575986337, 68.8294002613053, 67.17454331593017, 130.55798857848043, 78.28316230995772, 80.15534955730647, 72.42766617966997, 49.97545822375614, 64.32886075217465, 43.14414848886353, 39.23921138129494, 37.28723205542031, 37.2851622918579, 33.381173530539755, 50.48186809847158, 29.478116066043462, 29.472070136194127, 27.52447842099425, 26.546567561465384, 24.59810024118513, 24.59746362742039, 28.36635933159845, 23.6215344184634, 23.621514707273175, 53.85156123257402, 22.63499327719873, 28.289427952000658, 21.667875350260527, 19.717225368697065, 19.715333295353958, 18.73929886285081, 44.95663417155404, 71.08883786921626, 58.6726356497398, 44.72731796352681, 41.0118631197062, 40.96117807002633, 42.754943558006985, 53.260048495564774, 77.66451404222015, 45.996943907382374, 256.68330871272195, 100.13108356008047, 299.58693696212396, 41.66774583018281, 89.54950650704203, 88.2508701003845, 63.2465031430096, 111.54997230255418, 196.81181942003866, 146.6433766566954, 77.42239713159215, 381.8436104074143, 75.45054972154985, 81.92645439054768, 54.335658183830226, 64.87072201972036, 157.17128924834788, 86.05398991963558, 90.41446202544758, 105.34110373746266, 200.51010750114858, 135.26728212749614, 136.36311808125186, 113.67484428167828, 143.13046428521685, 131.39357181060342, 102.30539146482407, 118.03946916863121, 110.80907382496767, 127.51280528548077, 85.81571642208276, 87.78699173276574, 90.85601777434417, 90.58171583241354, 91.80600480969782, 85.0690472338386, 17.178192154388874, 41.10660325194994, 10.842304100261638, 34.16341019761972, 51.60931009286686, 83.87131629281039, 16.96191039003644, 28.586241537893038, 21.559437024413423, 13.89206576184859, 4.315888104638104, 31.353398407560366, 10.914009441186595, 20.2940802290621, 14.366234414437322, 9.085753040663938, 8.38457750796184, 29.56793546629794, 63.982671655925856, 39.570851043849224, 13.310226929816357, 4.413536328938519, 11.812101414289728, 15.434840879722664, 8.542015318965719, 16.21443796584526, 13.141859292913475, 18.56590499962368, 5.3763949289376995, 4.116116220725745, 18.87098370582164, 31.1619535887317, 23.437239531388933, 22.324315419680765, 62.11460505547781, 21.887162140461278, 25.33499643395595, 25.163041987260417, 68.32523030674959, 48.38785301732927, 65.54843990630226, 49.31128643694697, 31.930065536053927, 24.89563501926971, 25.29969976318756, 45.59237115011294, 50.878054309152155, 58.51478612185383, 39.127743885723035, 33.699608854183964, 42.05178208707707, 42.15988722908331, 51.0625922925082, 32.48766108442151, 30.139180521217117, 37.84698971611521, 43.12969271026533, 26.44791636101436, 27.322591717134106, 26.950204279625265, 26.22397208481553, 26.223125676036233, 30.807720714277103, 34.295855240737325, 18.509420935971924, 18.506600131978942, 17.546129234809705, 15.616621370254824, 15.616011782791325, 14.652382045426366, 91.65336955100092, 14.640724595512134, 14.616591009698478, 13.687751571357216, 13.684077201385561, 13.68156895666266, 12.722342624999994, 15.422502005302242, 11.7609945495664, 79.59653259438066, 15.325600615889092, 10.79880247809888, 10.79554911739028, 10.790566768128178, 10.79093440260421, 10.789337946981787, 18.78316578048184, 18.78293447851759, 25.066750015052264, 9.830940284581835, 53.62872441597586, 49.06544191651014, 55.02546570060439, 34.66268537557113, 110.38470093345865, 86.73179772095604, 32.36544188429684, 48.68000455264935, 115.39167767292912, 42.39388244533549, 35.803653355894205, 56.41316348295638, 36.29765011663907, 72.907425195642, 22.6795819778021, 99.5684325489527, 50.25735129316537, 40.32391391324264, 30.457366445791582, 53.597192336938015, 66.88466514659389, 37.331796870817975, 97.33786957462672, 118.80837727344323, 48.24708939329568, 140.0064701171481, 351.18140878849965, 87.7699925527808, 100.0558140420699, 99.33034907589827, 79.03211438555668, 131.78047747147534, 140.16148159356433, 58.442756001484554, 102.08235138043334, 81.29417470698678, 95.2569250072601, 74.88672246223315, 64.23603254057315, 119.1315248385029, 82.15193418702756, 100.34242550525859, 70.95953136733556, 99.45093278293258, 68.27580654754773, 87.43700324028717, 69.72423847300387, 68.2954927158184], \"Total\": [793.0, 274.0, 197.0, 90.0, 207.0, 301.0, 493.0, 334.0, 123.0, 91.0, 155.0, 202.0, 128.0, 165.0, 123.0, 176.0, 165.0, 138.0, 96.0, 298.0, 236.0, 173.0, 207.0, 127.0, 55.0, 175.0, 280.0, 251.0, 131.0, 106.0, 47.66435300694073, 39.08449237122963, 33.36452797395765, 28.597992925746365, 26.69131076360636, 25.738143827757188, 21.924682233249243, 21.924817581034755, 20.018096873595063, 22.88088300320795, 19.06501411694569, 25.70966673750169, 16.204806079853483, 61.98857273210531, 16.20439451778149, 16.20489085728512, 40.05825609278071, 15.251554624872266, 37.190657020473566, 14.298157118147182, 56.281680094990584, 14.298523621335807, 13.344838599195482, 13.344843079876597, 13.344839526551352, 13.34486216953744, 13.344899633086339, 13.344939833001607, 13.344930852856585, 20.028426619099196, 52.394966399668505, 30.519591447218986, 37.20925808553475, 33.40360988757228, 21.93462883226283, 81.13903425209902, 88.7710911722732, 23.85932820531366, 26.71492840294427, 66.76963227458803, 67.14937119000078, 25.78098070413124, 39.08730858341468, 57.425064893492824, 38.23781272055413, 60.32370987759946, 59.39162196779931, 31.22397459161483, 36.354429713836105, 110.39094009275045, 97.00956488697165, 64.0139204794593, 66.04973567917791, 61.321709236687084, 117.88826919757675, 93.23398979469347, 264.6635621508043, 168.10523589933342, 87.32555005639999, 211.53755012135642, 188.18760422508652, 175.54834026912, 122.20078914070949, 273.01938601456914, 231.7160030213156, 165.25679830440558, 306.47272024823735, 259.6511321710866, 97.21507091062836, 305.4362298384926, 255.6860895864659, 160.697669506846, 219.23861867225742, 158.86513520952576, 138.31978127631663, 793.1980625140218, 29.06627783470181, 25.188216012781442, 25.18742543006553, 21.31043511700386, 20.34069916976692, 53.311980761785655, 16.463037130041418, 36.7395092016895, 17.41923690830375, 41.64436812342547, 112.46771652014843, 11.615241615072803, 11.615681174914739, 16.46535509565293, 11.61544419412028, 20.345024378932067, 9.67627763108391, 30.0474598862815, 9.676528342844202, 15.48946486463951, 13.557378463278027, 8.707277541875062, 8.707210774621508, 29.058477697581356, 27.139427910242294, 7.737949798815951, 7.737860506987808, 7.737897552736288, 39.48906554376953, 18.39576337743737, 86.9392737665663, 38.53756413175121, 43.53651361214196, 37.814843191997966, 202.54345953668206, 54.28910391509676, 46.489141757787245, 58.87298783480314, 59.05703959312554, 78.44349545891599, 86.1550055319864, 27.144227761864038, 25.152542211811998, 85.44802420189788, 53.18898347487017, 120.69243365827367, 81.17637891156805, 102.74489704878323, 52.165820481850176, 493.62537576096986, 104.64650009037037, 234.1528129386355, 79.30368946288407, 130.8596511702121, 120.50229372173816, 76.67837338800328, 144.03487318158002, 255.6860895864659, 84.94096130626144, 334.60909347477883, 100.26523677017714, 95.46666258152935, 116.54560425434006, 146.63878947508468, 134.87934177696746, 215.7638644713464, 301.1143546521272, 259.6511321710866, 283.73773404804876, 204.71415487286396, 125.01374970261897, 162.35101162081648, 139.20063760686728, 274.2920039619517, 263.6274918132038, 207.0585622620401, 202.12176262528658, 219.23861867225742, 131.74744694320296, 79.0416917216721, 80.99298021478862, 73.18495123391344, 50.73405016321957, 65.35199596575507, 43.901194455368326, 39.99668095319407, 38.04442253897727, 38.044408298428166, 34.139894173383944, 51.70571903782863, 30.23542705121203, 30.234936155226098, 28.28315741471822, 27.307002651521724, 25.354806496723132, 25.35477513055232, 29.25828070804402, 24.37867489012525, 24.378670527073773, 55.59125568724579, 23.401739554694206, 29.25720762270473, 22.426402188945147, 20.47417369574089, 20.474115528689563, 19.49802272108338, 46.82195912250449, 74.13978785883907, 61.45750166124037, 46.813171618447946, 42.9171547822424, 42.896652005009926, 44.867768474782224, 56.46518088300295, 83.7560549354397, 48.75710006406641, 298.0049253740503, 111.169544633004, 388.9490573137726, 44.81680850929817, 105.29405630331749, 108.99175405552198, 73.93467892099106, 146.94695472971068, 305.4362298384926, 215.50738617088135, 98.07230972170902, 793.1980625140218, 95.30910098855252, 106.76662465986615, 62.31593920551763, 79.91343885868756, 283.73773404804876, 123.46464847790243, 133.10411493977057, 172.87352126817865, 493.62537576096986, 263.6274918132038, 274.2920039619517, 202.12176262528658, 301.1143546521272, 265.38333183383315, 188.83148033048104, 255.8211590073812, 231.7160030213156, 334.60909347477883, 141.9308841452142, 165.0858665121467, 215.7638644713464, 234.1528129386355, 280.6051549180669, 264.6635621508043, 17.961121314259398, 43.12194604653752, 11.700075655514423, 36.90569403096417, 55.84550812393368, 90.90616061720593, 19.908789728466132, 34.476775955341, 26.33573055656877, 17.282024361165227, 5.455801077999398, 39.99891901371445, 14.622982316965343, 28.35111108716314, 20.16763222673976, 12.810231836101352, 11.911588284586065, 42.153464388229416, 91.75925342616229, 56.93288479393976, 19.252482229328184, 6.423512756744694, 17.469779612267264, 22.959421024424827, 12.803104188002482, 24.69680569696868, 20.1384183953574, 28.522111995551143, 8.276134489824846, 6.441695690297933, 30.456894083649804, 51.7887466862246, 38.81757716815531, 37.01753180641854, 123.83285098432746, 37.98222346660757, 46.37530083851884, 47.48340486956443, 197.37841645995582, 128.93242528505593, 207.0585622620401, 155.23741712836457, 75.70146992373202, 50.32454706527673, 52.30758922305785, 165.0858665121467, 207.43867271064553, 274.2920039619517, 127.82948794710161, 97.21507091062836, 173.06300374244157, 176.2368911946503, 301.1143546521272, 106.26131396540303, 92.7569883643136, 204.71415487286396, 334.60909347477883, 88.1620215799037, 132.7324941720115, 121.30035314519753, 26.98571885013834, 26.985740113031255, 31.804157090501366, 35.656900936365275, 19.27195993903884, 19.2719287819127, 18.307756487420367, 16.379241516888637, 16.379216173724902, 15.415029062860159, 96.45899309675683, 15.414880981580351, 15.415264817709476, 14.45071119066925, 14.450763884434107, 14.450863632331533, 13.486300190496243, 16.377042400438707, 12.522303359993169, 84.88269641041101, 16.38286702212015, 11.558146294110998, 11.557949780159593, 11.557639126610674, 11.558162833175277, 11.558051587014768, 20.2240268999084, 20.224030361398196, 26.999578613815164, 10.593890181544449, 57.85865846732317, 53.030372288848504, 59.811568206963344, 37.61195313858665, 123.4268852265731, 97.3911799585762, 35.69498617915271, 54.95247669899156, 138.6983786508942, 48.257599882234345, 40.487324039246516, 66.607391133408, 41.49620421779665, 89.53364153849793, 25.073035349115067, 135.94578054290614, 62.782029946326624, 49.24574271182145, 35.63708879050529, 69.45977814175703, 90.79523483151365, 45.38786301885673, 145.5056963338039, 189.70420918103284, 62.82940619342616, 236.3007905865814, 793.1980625140218, 135.2981497462788, 161.03398411558885, 165.25679830440558, 122.54615448701331, 251.9240767766996, 280.6051549180669, 81.83629935183657, 184.36189869363704, 132.4718518007493, 175.54834026912, 121.46569418607592, 95.39493602342324, 306.47272024823735, 161.4360556056239, 273.01938601456914, 129.09915082589356, 301.11340317079856, 117.84170377486384, 265.38333183383315, 132.8099695647968, 150.04996102402896], \"Category\": [\"Default\", \"Default\", \"Default\", \"Default\", \"Default\", \"Default\", \"Default\", \"Default\", \"Default\", \"Default\", \"Default\", \"Default\", \"Default\", \"Default\", \"Default\", \"Default\", \"Default\", \"Default\", \"Default\", \"Default\", \"Default\", \"Default\", \"Default\", \"Default\", \"Default\", \"Default\", \"Default\", \"Default\", \"Default\", \"Default\", \"Topic1\", \"Topic1\", \"Topic1\", \"Topic1\", \"Topic1\", \"Topic1\", \"Topic1\", \"Topic1\", \"Topic1\", \"Topic1\", \"Topic1\", \"Topic1\", \"Topic1\", \"Topic1\", \"Topic1\", \"Topic1\", \"Topic1\", \"Topic1\", \"Topic1\", \"Topic1\", \"Topic1\", \"Topic1\", \"Topic1\", \"Topic1\", \"Topic1\", \"Topic1\", \"Topic1\", \"Topic1\", \"Topic1\", \"Topic1\", \"Topic1\", \"Topic1\", \"Topic1\", \"Topic1\", \"Topic1\", \"Topic1\", \"Topic1\", \"Topic1\", \"Topic1\", \"Topic1\", \"Topic1\", \"Topic1\", \"Topic1\", \"Topic1\", \"Topic1\", \"Topic1\", \"Topic1\", \"Topic1\", \"Topic1\", \"Topic1\", \"Topic1\", \"Topic1\", \"Topic1\", \"Topic1\", \"Topic1\", \"Topic1\", \"Topic1\", \"Topic1\", \"Topic1\", \"Topic1\", \"Topic1\", \"Topic1\", \"Topic1\", \"Topic1\", \"Topic1\", \"Topic1\", \"Topic1\", \"Topic1\", \"Topic1\", \"Topic1\", \"Topic1\", \"Topic1\", \"Topic1\", \"Topic1\", \"Topic1\", \"Topic1\", \"Topic2\", \"Topic2\", \"Topic2\", \"Topic2\", \"Topic2\", \"Topic2\", \"Topic2\", \"Topic2\", \"Topic2\", \"Topic2\", \"Topic2\", \"Topic2\", \"Topic2\", \"Topic2\", \"Topic2\", \"Topic2\", \"Topic2\", \"Topic2\", \"Topic2\", \"Topic2\", \"Topic2\", \"Topic2\", \"Topic2\", \"Topic2\", \"Topic2\", \"Topic2\", \"Topic2\", \"Topic2\", \"Topic2\", \"Topic2\", \"Topic2\", \"Topic2\", \"Topic2\", \"Topic2\", \"Topic2\", \"Topic2\", \"Topic2\", \"Topic2\", \"Topic2\", \"Topic2\", \"Topic2\", \"Topic2\", \"Topic2\", \"Topic2\", \"Topic2\", \"Topic2\", \"Topic2\", \"Topic2\", \"Topic2\", \"Topic2\", \"Topic2\", \"Topic2\", \"Topic2\", \"Topic2\", \"Topic2\", \"Topic2\", \"Topic2\", \"Topic2\", \"Topic2\", \"Topic2\", \"Topic2\", \"Topic2\", \"Topic2\", \"Topic2\", \"Topic2\", \"Topic2\", \"Topic2\", \"Topic2\", \"Topic2\", \"Topic2\", \"Topic2\", \"Topic2\", \"Topic2\", \"Topic2\", \"Topic2\", \"Topic2\", \"Topic2\", \"Topic2\", \"Topic3\", \"Topic3\", \"Topic3\", \"Topic3\", \"Topic3\", \"Topic3\", \"Topic3\", \"Topic3\", \"Topic3\", \"Topic3\", \"Topic3\", \"Topic3\", \"Topic3\", \"Topic3\", \"Topic3\", \"Topic3\", \"Topic3\", \"Topic3\", \"Topic3\", \"Topic3\", \"Topic3\", \"Topic3\", \"Topic3\", \"Topic3\", \"Topic3\", \"Topic3\", \"Topic3\", \"Topic3\", \"Topic3\", \"Topic3\", \"Topic3\", \"Topic3\", \"Topic3\", \"Topic3\", \"Topic3\", \"Topic3\", \"Topic3\", \"Topic3\", \"Topic3\", \"Topic3\", \"Topic3\", \"Topic3\", \"Topic3\", \"Topic3\", \"Topic3\", \"Topic3\", \"Topic3\", \"Topic3\", \"Topic3\", \"Topic3\", \"Topic3\", \"Topic3\", \"Topic3\", \"Topic3\", \"Topic3\", \"Topic3\", \"Topic3\", \"Topic3\", \"Topic3\", \"Topic3\", \"Topic3\", \"Topic3\", \"Topic3\", \"Topic3\", \"Topic3\", \"Topic3\", \"Topic3\", \"Topic3\", \"Topic3\", \"Topic3\", \"Topic3\", \"Topic3\", \"Topic3\", \"Topic3\", \"Topic4\", \"Topic4\", \"Topic4\", \"Topic4\", \"Topic4\", \"Topic4\", \"Topic4\", \"Topic4\", \"Topic4\", \"Topic4\", \"Topic4\", \"Topic4\", \"Topic4\", \"Topic4\", \"Topic4\", \"Topic4\", \"Topic4\", \"Topic4\", \"Topic4\", \"Topic4\", \"Topic4\", \"Topic4\", \"Topic4\", \"Topic4\", \"Topic4\", \"Topic4\", \"Topic4\", \"Topic4\", \"Topic4\", \"Topic4\", \"Topic4\", \"Topic4\", \"Topic4\", \"Topic4\", \"Topic4\", \"Topic4\", \"Topic4\", \"Topic4\", \"Topic4\", \"Topic4\", \"Topic4\", \"Topic4\", \"Topic4\", \"Topic4\", \"Topic4\", \"Topic4\", \"Topic4\", \"Topic4\", \"Topic4\", \"Topic4\", \"Topic4\", \"Topic4\", \"Topic4\", \"Topic4\", \"Topic4\", \"Topic4\", \"Topic4\", \"Topic4\", \"Topic4\", \"Topic4\", \"Topic5\", \"Topic5\", \"Topic5\", \"Topic5\", \"Topic5\", \"Topic5\", \"Topic5\", \"Topic5\", \"Topic5\", \"Topic5\", \"Topic5\", \"Topic5\", \"Topic5\", \"Topic5\", \"Topic5\", \"Topic5\", \"Topic5\", \"Topic5\", \"Topic5\", \"Topic5\", \"Topic5\", \"Topic5\", \"Topic5\", \"Topic5\", \"Topic5\", \"Topic5\", \"Topic5\", \"Topic5\", \"Topic5\", \"Topic5\", \"Topic5\", \"Topic5\", \"Topic5\", \"Topic5\", \"Topic5\", \"Topic5\", \"Topic5\", \"Topic5\", \"Topic5\", \"Topic5\", \"Topic5\", \"Topic5\", \"Topic5\", \"Topic5\", \"Topic5\", \"Topic5\", \"Topic5\", \"Topic5\", \"Topic5\", \"Topic5\", \"Topic5\", \"Topic5\", \"Topic5\", \"Topic5\", \"Topic5\", \"Topic5\", \"Topic5\", \"Topic5\", \"Topic5\", \"Topic5\", \"Topic5\", \"Topic5\", \"Topic5\", \"Topic5\", \"Topic5\", \"Topic5\", \"Topic5\", \"Topic5\", \"Topic5\", \"Topic5\", \"Topic5\", \"Topic5\", \"Topic5\", \"Topic5\", \"Topic5\", \"Topic5\", \"Topic5\", \"Topic5\"], \"logprob\": [30.0, 29.0, 28.0, 27.0, 26.0, 25.0, 24.0, 23.0, 22.0, 21.0, 20.0, 19.0, 18.0, 17.0, 16.0, 15.0, 14.0, 13.0, 12.0, 11.0, 10.0, 9.0, 8.0, 7.0, 6.0, 5.0, 4.0, 3.0, 2.0, 1.0, -6.1393, -6.3414, -6.503, -6.6612, -6.732, -6.7699, -6.9351, -6.9355, -7.0296, -6.8987, -7.0815, -6.7885, -7.2503, -5.9087, -7.2511, -7.2511, -6.348, -7.3145, -6.4237, -7.382, -6.0121, -7.3835, -7.455, -7.4551, -7.4551, -7.4553, -7.4553, -7.4555, -7.4555, -7.0525, -6.0959, -6.6369, -6.4556, -6.5636, -6.9769, -5.7257, -5.6511, -6.9027, -6.8066, -5.9665, -5.9725, -6.8442, -6.4922, -6.1742, -6.5161, -6.1662, -6.2012, -6.6969, -6.5852, -5.7643, -5.8688, -6.1915, -6.1767, -6.2559, -5.8674, -6.0124, -5.3897, -5.6948, -6.0773, -5.6413, -5.7237, -5.7759, -5.9838, -5.6852, -5.79, -5.9257, -5.7612, -5.8173, -6.1151, -5.9003, -5.943, -6.0294, -6.0204, -6.0618, -6.088, -6.0547, -6.9734, -7.1208, -7.1212, -7.2938, -7.342, -6.3801, -7.5626, -6.7623, -7.5131, -6.6422, -5.6557, -7.9329, -7.9329, -7.5843, -7.9334, -7.3738, -8.1293, -7.0012, -8.1351, -7.666, -7.8006, -8.2439, -8.244, -7.0394, -7.1136, -8.3735, -8.3737, -8.376, -6.7463, -7.5131, -5.9659, -6.7789, -6.6585, -6.8029, -5.1744, -6.4535, -6.6102, -6.3846, -6.389, -6.1325, -6.0682, -7.1433, -7.2152, -6.1113, -6.5412, -5.8158, -6.1713, -5.9763, -6.576, -4.7207, -5.9987, -5.3904, -6.2498, -5.8708, -5.9515, -6.2912, -5.8335, -5.4335, -6.2258, -5.2803, -6.1189, -6.2048, -6.0947, -5.9928, -6.0448, -5.8183, -5.7082, -5.8194, -5.8034, -5.937, -6.1177, -6.0545, -6.1242, -5.9847, -6.0153, -6.0575, -6.0848, -6.1091, -5.7478, -6.2592, -6.2356, -6.337, -6.708, -6.4556, -6.855, -6.9499, -7.0009, -7.001, -7.1116, -6.698, -7.2359, -7.2361, -7.3045, -7.3407, -7.4169, -7.4169, -7.2744, -7.4574, -7.4574, -6.6333, -7.5001, -7.2771, -7.5437, -7.6381, -7.6382, -7.6889, -6.8139, -6.3556, -6.5476, -6.819, -6.9057, -6.9069, -6.8641, -6.6444, -6.2672, -6.791, -5.0717, -6.0131, -4.9172, -6.8898, -6.1248, -6.1394, -6.4725, -5.9051, -5.3373, -5.6316, -6.2703, -4.6746, -6.2961, -6.2137, -6.6244, -6.4472, -5.5622, -6.1646, -6.1152, -5.9624, -5.3187, -5.7123, -5.7043, -5.8862, -5.6558, -5.7414, -5.9916, -5.8486, -5.9118, -5.7714, -6.1674, -6.1447, -6.1103, -6.1133, -6.0999, -6.1761, -6.2955, -5.423, -6.7557, -5.608, -5.1954, -4.7098, -6.3082, -5.7862, -6.0683, -6.5078, -7.6768, -5.6938, -6.7491, -6.1288, -6.4743, -6.9324, -7.0127, -5.7524, -4.9805, -5.461, -6.5506, -7.6545, -6.67, -6.4025, -6.9941, -6.3532, -6.5633, -6.2178, -7.4571, -7.7242, -6.2015, -5.6999, -5.9848, -6.0335, -5.0102, -6.0532, -5.9069, -5.9138, -4.9149, -5.2599, -4.9563, -5.241, -5.6756, -5.9244, -5.9083, -5.3194, -5.2097, -5.0699, -5.4723, -5.6216, -5.4002, -5.3977, -5.2061, -5.6583, -5.7333, -5.5056, -5.3749, -5.864, -5.8314, -5.8451, -6.7522, -6.7522, -6.5911, -6.4838, -7.1006, -7.1007, -7.154, -7.2705, -7.2706, -7.3343, -5.5008, -7.335, -7.3367, -7.4024, -7.4026, -7.4028, -7.4755, -7.283, -7.5541, -5.6419, -7.2893, -7.6394, -7.6397, -7.6402, -7.6401, -7.6403, -7.0859, -7.0859, -6.7973, -7.7333, -6.0368, -6.1257, -6.0111, -6.4732, -5.3149, -5.556, -6.5418, -6.1336, -5.2705, -6.2718, -6.4408, -5.9862, -6.4271, -5.7297, -6.8974, -5.418, -6.1017, -6.3219, -6.6025, -6.0374, -5.8159, -6.399, -5.4407, -5.2413, -6.1425, -5.0772, -4.1576, -5.5441, -5.4131, -5.4204, -5.649, -5.1377, -5.0761, -5.9508, -5.3931, -5.6208, -5.4623, -5.7029, -5.8563, -5.2386, -5.6103, -5.4103, -5.7567, -5.4192, -5.7953, -5.5479, -5.7743, -5.795], \"loglift\": [30.0, 29.0, 28.0, 27.0, 26.0, 25.0, 24.0, 23.0, 22.0, 21.0, 20.0, 19.0, 18.0, 17.0, 16.0, 15.0, 14.0, 13.0, 12.0, 11.0, 10.0, 9.0, 8.0, 7.0, 6.0, 5.0, 4.0, 3.0, 2.0, 1.0, 1.7298, 1.7262, 1.7229, 1.7188, 1.717, 1.7155, 1.7106, 1.7103, 1.7071, 1.7044, 1.704, 1.698, 1.6978, 1.6977, 1.697, 1.697, 1.695, 1.6942, 1.6936, 1.6912, 1.6909, 1.6897, 1.6872, 1.6872, 1.6871, 1.687, 1.6869, 1.6867, 1.6867, 1.6837, 1.6786, 1.6781, 1.6612, 1.6611, 1.6684, 1.6115, 1.5962, 1.6584, 1.6415, 1.5657, 1.5539, 1.6395, 1.5753, 1.5087, 1.5734, 1.4674, 1.448, 1.5953, 1.5548, 1.2651, 1.2898, 1.3827, 1.3662, 1.3614, 1.0963, 1.1858, 0.7652, 0.914, 1.1864, 0.7376, 0.7722, 0.7895, 0.9439, 0.4386, 0.4978, 0.7002, 0.247, 0.3568, 1.0414, 0.1114, 0.2464, 0.6244, 0.3228, 0.6035, 0.7157, -0.9974, 1.3904, 1.3862, 1.3858, 1.3803, 1.3787, 1.3771, 1.3697, 1.3672, 1.3626, 1.362, 1.355, 1.3481, 1.3481, 1.3478, 1.3476, 1.3468, 1.3344, 1.3294, 1.3285, 1.3272, 1.3258, 1.3253, 1.3253, 1.3247, 1.3188, 1.3138, 1.3135, 1.3112, 1.311, 1.3082, 1.3022, 1.3028, 1.3012, 1.2978, 1.248, 1.2856, 1.2839, 1.2733, 1.2658, 1.2385, 1.209, 1.2889, 1.2932, 1.1742, 1.2183, 1.1243, 1.1655, 1.1248, 1.2029, 0.8109, 1.084, 0.887, 1.1103, 0.9885, 0.9902, 1.1026, 0.9298, 0.7559, 1.0656, 0.6401, 1.0066, 0.9697, 0.8804, 0.7525, 0.7841, 0.5409, 0.3177, 0.3547, 0.2819, 0.4747, 0.7872, 0.5891, 0.6732, 0.1344, 0.1436, 0.3429, 0.3397, 0.2341, 1.1047, 1.1041, 1.1034, 1.1034, 1.0987, 1.098, 1.0964, 1.0947, 1.0937, 1.0936, 1.0913, 1.0898, 1.0884, 1.0882, 1.0866, 1.0855, 1.0835, 1.0835, 1.0828, 1.0822, 1.0822, 1.082, 1.0805, 1.0802, 1.0794, 1.0761, 1.076, 1.0741, 1.0731, 1.0718, 1.0674, 1.0682, 1.0684, 1.0676, 1.0656, 1.0554, 1.0383, 1.0555, 0.9645, 1.0092, 0.8527, 1.0409, 0.9518, 0.9027, 0.9576, 0.8382, 0.6743, 0.7288, 0.8774, 0.3827, 0.8801, 0.849, 0.9768, 0.9052, 0.5231, 0.7528, 0.7271, 0.6184, 0.2129, 0.4465, 0.4149, 0.5383, 0.3701, 0.4108, 0.5009, 0.3403, 0.3761, 0.149, 0.6107, 0.4822, 0.2489, 0.1641, -0.0035, -0.0212, 2.5497, 2.5464, 2.5181, 2.517, 2.5153, 2.5137, 2.434, 2.4069, 2.3941, 2.3759, 2.3599, 2.3507, 2.3017, 2.2599, 2.255, 2.2507, 2.2431, 2.2396, 2.2337, 2.2304, 2.2251, 2.2189, 2.2029, 2.1971, 2.1895, 2.1735, 2.1674, 2.1649, 2.1629, 2.1463, 2.1155, 2.0863, 2.0897, 2.0885, 1.9043, 2.043, 1.9896, 1.9592, 1.5334, 1.6142, 1.444, 1.4474, 1.731, 1.8904, 1.8679, 1.3075, 1.1888, 1.0493, 1.4104, 1.5348, 1.1795, 1.1639, 0.8198, 1.4092, 1.4701, 0.9062, 0.5455, 1.3902, 1.0136, 1.0899, 1.6859, 1.6858, 1.6827, 1.6756, 1.6741, 1.674, 1.672, 1.6668, 1.6668, 1.6638, 1.6634, 1.663, 1.6613, 1.6603, 1.66, 1.6598, 1.6562, 1.6545, 1.6518, 1.6502, 1.6478, 1.6466, 1.6463, 1.6458, 1.6458, 1.6457, 1.6406, 1.6406, 1.6402, 1.6398, 1.6386, 1.6368, 1.6311, 1.6328, 1.6028, 1.5986, 1.6166, 1.5933, 1.5305, 1.585, 1.5916, 1.5484, 1.5807, 1.5091, 1.6142, 1.4031, 1.492, 1.5146, 1.5574, 1.4553, 1.4089, 1.5191, 1.3125, 1.2466, 1.4504, 1.1911, 0.8997, 1.2817, 1.2386, 1.2055, 1.2759, 1.0665, 1.0204, 1.3778, 1.1234, 1.2262, 1.1032, 1.2309, 1.319, 0.7696, 1.039, 0.7136, 1.116, 0.6067, 1.1687, 0.6043, 1.0701, 0.9274]}, \"token.table\": {\"Topic\": [1, 2, 3, 4, 5, 1, 2, 3, 2, 4, 2, 3, 3, 4, 2, 3, 4, 5, 2, 3, 4, 2, 3, 4, 3, 5, 1, 1, 2, 3, 4, 5, 1, 2, 3, 4, 5, 1, 2, 3, 4, 5, 3, 4, 3, 1, 2, 3, 4, 5, 1, 2, 3, 5, 3, 5, 1, 5, 1, 1, 1, 4, 1, 3, 5, 3, 1, 2, 3, 4, 5, 1, 2, 3, 4, 5, 1, 3, 4, 1, 2, 3, 4, 5, 1, 2, 4, 5, 3, 4, 5, 1, 3, 3, 1, 3, 5, 1, 2, 1, 2, 3, 4, 5, 1, 2, 3, 5, 3, 2, 4, 2, 4, 5, 1, 2, 3, 5, 1, 3, 2, 3, 4, 1, 3, 1, 2, 3, 5, 1, 2, 3, 4, 5, 3, 4, 5, 2, 3, 4, 5, 1, 2, 3, 4, 5, 1, 3, 4, 5, 1, 2, 3, 5, 1, 1, 2, 3, 4, 5, 1, 2, 3, 4, 5, 1, 2, 3, 3, 2, 3, 5, 3, 1, 2, 3, 4, 5, 2, 3, 4, 5, 3, 1, 3, 4, 1, 2, 5, 1, 2, 3, 1, 3, 5, 1, 2, 3, 4, 2, 3, 1, 3, 4, 5, 2, 3, 2, 3, 2, 3, 4, 5, 3, 2, 1, 2, 3, 5, 5, 2, 3, 4, 1, 2, 3, 4, 5, 5, 2, 3, 3, 1, 2, 3, 4, 2, 2, 1, 2, 3, 4, 1, 2, 3, 5, 1, 2, 3, 4, 5, 1, 2, 3, 5, 1, 2, 3, 1, 2, 3, 4, 2, 1, 3, 2, 3, 4, 2, 1, 2, 3, 4, 5, 1, 2, 3, 2, 2, 5, 2, 3, 1, 2, 3, 5, 2, 3, 1, 3, 4, 5, 3, 4, 2, 3, 5, 1, 1, 4, 5, 2, 3, 4, 5, 1, 4, 2, 3, 2, 5, 1, 3, 2, 5, 1, 3, 5, 1, 1, 2, 3, 4, 5, 1, 5, 3, 1, 2, 3, 4, 5, 2, 3, 2, 3, 5, 3, 5, 1, 2, 3, 5, 1, 2, 1, 2, 3, 4, 5, 1, 3, 5, 2, 3, 4, 5, 1, 3, 5, 5, 1, 5, 5, 1, 2, 3, 4, 5, 3, 4, 5, 5, 5, 1, 2, 3, 4, 5, 1, 3, 5, 1, 1, 5, 1, 1, 2, 3, 4, 5, 1, 1, 2, 3, 4, 5, 3, 1, 2, 1, 2, 3, 4, 5, 2, 1, 2, 4, 2, 3, 1, 2, 3, 4, 1, 2, 3, 4, 5, 1, 3, 4, 1, 2, 2, 1, 2, 3, 4, 5, 1, 2, 3, 4, 5, 1, 2, 3, 4, 3, 5, 3, 2, 3, 3, 1, 3, 4, 5, 1, 2, 3, 4, 5, 2, 3, 5, 2, 3, 4, 1, 3, 1, 2, 3, 5, 1, 2, 3, 4, 5, 1, 1, 2, 3, 4, 5, 2, 5, 1, 2, 3, 4, 5, 5, 5, 5, 1, 2, 3, 4, 5, 1, 2, 3, 5, 2, 3, 4, 1, 2, 3, 4, 2, 1, 2, 3, 4, 5, 1, 3, 5, 2, 3, 5, 5, 2, 3, 1, 2, 3, 5, 1, 2, 3, 4, 2, 4, 1, 3, 1, 2, 3, 4, 1, 2, 3, 4, 5, 1, 2, 3, 5, 1, 2, 3, 4, 3, 3, 5, 2, 4, 1, 2, 3, 4, 5, 1, 3, 5, 2, 1, 2, 3, 4, 5, 2, 3, 1, 3, 4, 5, 5, 3, 2, 3, 4, 5, 1, 2, 3, 5, 2, 3, 4, 1, 1, 5, 1, 2, 1, 3, 5, 1, 2, 3, 4, 5, 1, 2, 3, 4, 5, 1, 2, 3, 1, 2, 4, 1, 1, 1, 1, 2, 3, 4, 5, 2, 3, 4, 1, 2, 3, 4, 5, 1, 4, 1, 2, 3, 4, 5, 1, 1, 2, 4, 5, 2, 3, 1, 2, 3, 4, 2, 3, 4, 2, 5, 1, 4, 3, 1, 2, 3, 4, 5, 2, 1, 2, 3, 4, 1, 2, 3, 1, 2, 3, 2, 3, 4, 5, 1, 2, 3, 4, 2, 2, 3, 2, 5, 2, 4, 3, 5, 4, 2, 4, 1, 2, 3, 4, 5, 3, 3, 1, 2, 3, 4, 2, 4, 1, 2, 3, 4, 5, 2, 3, 4, 5, 2, 5, 1, 2, 3, 4, 5, 1, 5, 1, 2, 3, 4, 5, 1, 2, 2, 3, 1, 1, 2, 3, 4, 5, 2, 3, 5, 1, 2, 3, 5, 1, 2, 4, 1, 2, 3, 4, 5, 2, 3, 4, 5, 3, 2, 3, 1, 2, 3, 4, 5, 2, 3, 4, 5, 1, 2, 3, 4, 5, 1, 2, 3, 4, 5, 3, 4, 5, 5, 1, 3, 5, 1, 2, 3, 1, 2, 3, 4, 5, 5, 5, 3, 1, 5, 1, 2, 3, 4, 5, 2, 3, 4, 5, 3, 4, 1, 2, 3, 4, 5, 3, 4, 3, 5, 5, 3, 5, 1, 2, 3, 4, 5, 3, 4, 2, 3, 4, 5, 1, 2, 2, 3, 4, 2, 4, 1, 2, 3, 4, 5, 1, 2, 3, 4, 5, 1, 2, 3, 4, 5, 5, 5, 3, 3, 4, 2, 3, 4, 5, 1, 2, 3, 4, 5, 1, 2, 3, 4, 1, 2, 3, 5, 2, 3, 4, 2, 3, 4, 5, 1, 3, 5, 1, 2, 3, 4, 5, 1, 2, 3, 4, 5, 3, 1, 2, 3, 5, 3, 1, 3, 5, 1, 2, 3, 4, 5, 1, 1, 2, 3, 5, 1, 2, 3, 5, 5, 1, 2, 3, 4, 5, 1, 2, 3, 4, 5, 2, 3, 5, 1, 1, 1, 3, 5, 1, 3, 5, 1, 2, 3, 5], \"Freq\": [0.0810607728195402, 0.3207187098512243, 0.5533278840290353, 0.04229257712323837, 0.003524381426936531, 0.09934307392498401, 0.6495508679710493, 0.2445367973538068, 0.3104772557033812, 0.6209545114067624, 0.9318591357129562, 0.06656136683663973, 0.15567805932198064, 0.6227122372879226, 0.41106804500747285, 0.17838801953154482, 0.37228804076148486, 0.03878000424598801, 0.8662716446990146, 0.06794287409404037, 0.05095715557053027, 0.2028487249415051, 0.6761624164716836, 0.1202066518171882, 0.07976696766674436, 0.9173201281675601, 0.9741520128739297, 0.11379693291341875, 0.2806991011864329, 0.5120861981103844, 0.015172924388455833, 0.07586462194227916, 0.09547269211724319, 0.5114608506280885, 0.3068765103768531, 0.06137530207537062, 0.013638956016749026, 0.042429800654889396, 0.016971920261955757, 0.33943840523911517, 0.025457880392933636, 0.5770452889064958, 0.1735907748597646, 0.8100902826789015, 0.9828329191616176, 0.11618036111684779, 0.6555891805879268, 0.08298597222631986, 0.14937475000737574, 0.008298597222631985, 0.13872324326424748, 0.016320381560499704, 0.19584457872599645, 0.6446550716397382, 0.08404541704941518, 0.8964844485270952, 0.9517883280678043, 0.03226401112094252, 0.9722526172035452, 0.9741576821733938, 0.3124242325348188, 0.7029545232033423, 0.1122426139664279, 0.028060653491606975, 0.8418196047482093, 0.9793120937505333, 0.35425157231932286, 0.1807405981221035, 0.21688871774652418, 0.04337774354930484, 0.20242946989675592, 0.3210270140942918, 0.19513406739064795, 0.15107153604437262, 0.012589294670364385, 0.3210270140942918, 0.29793799504052443, 0.049656332506754074, 0.645532322587803, 0.15601254696920866, 0.11556484960682123, 0.47959412586830813, 0.24268618417432458, 0.011556484960682123, 0.0750020269040618, 0.0750020269040618, 0.7750209446753052, 0.0750020269040618, 0.027096089810992093, 0.9212670535737312, 0.054192179621984186, 0.9220712255888424, 0.04191232843585647, 0.9744577833246207, 0.20773177837517265, 0.07331709825006094, 0.7087319497505891, 0.17252676018258603, 0.8051248808520681, 0.01448865464545915, 0.3428981599425332, 0.24147757742431916, 0.3187504022001013, 0.0869319278727549, 0.16766647206976898, 0.062098693359173694, 0.14903686406201688, 0.620986933591737, 0.959139751883792, 0.18329114014668083, 0.7331645605867233, 0.0502290703573092, 0.8538941960742563, 0.0502290703573092, 0.5684622112247798, 0.128708425182969, 0.2359654461687765, 0.0643542125914845, 0.9441377745427911, 0.9899884793424488, 0.07594245375893517, 0.07594245375893517, 0.835366991348287, 0.9486516520414797, 0.04992903431797262, 0.015013348863898589, 0.030026697727797178, 0.10509344204729013, 0.840747536378321, 0.134566153463553, 0.11136509252156111, 0.6821111916945618, 0.00928042437679676, 0.06496297063757732, 0.16605989807932897, 0.7116852774828384, 0.1423370554965677, 0.14024206905238704, 0.14024206905238704, 0.6661498279988385, 0.07012103452619352, 0.4937506042054663, 0.02057294184189443, 0.06171882552568329, 0.3497400113122053, 0.07200529644663049, 0.8750412258963172, 0.08627167015879184, 0.012324524308398834, 0.012324524308398834, 0.6159925800329846, 0.1358807161837466, 0.17211557383274573, 0.06341100088574843, 0.9615013545113427, 0.04799472069490532, 0.535941047759776, 0.26397096382197927, 0.007999120115817554, 0.14398416208471596, 0.1193305132779005, 0.06508937087885482, 0.24408514079570554, 0.010848228479809135, 0.5532596524702659, 0.00899526937257167, 0.0899526937257167, 0.8995269372571669, 0.9569940311736063, 0.013488034277950504, 0.9576504337344858, 0.013488034277950504, 0.9844671379165965, 0.02873550056068612, 0.474135759251321, 0.3160905061675473, 0.13649362766325907, 0.05028712598120071, 0.9046323873891156, 0.17422042113974462, 0.6533265792740423, 0.13066531585480845, 0.9794722110286882, 0.07806259970891663, 0.15612519941783326, 0.7025633973802498, 0.9137510864054996, 0.02687503195310293, 0.02687503195310293, 0.013041486873226435, 0.7303232649006803, 0.24778825059130227, 0.018857118229401625, 0.03771423645880325, 0.9239987932406797, 0.02705090532870594, 0.0946781686504708, 0.8521035178542372, 0.02705090532870594, 0.14245818355396947, 0.8547491013238169, 0.03764305042663349, 0.630521094646111, 0.3011444034130679, 0.028232287819975117, 0.8851268726106308, 0.07376057271755257, 0.9110037355926928, 0.060733582372846186, 0.1545691523715758, 0.20609220316210106, 0.5925150840910406, 0.025761525395262632, 0.9725476529892222, 0.9187787234136123, 0.6288039748562183, 0.051541309414444125, 0.26801480895510943, 0.051541309414444125, 0.9517514675357229, 0.17205916261253892, 0.34411832522507785, 0.4779421183681637, 0.12619830137034954, 0.21586551550191369, 0.2623596265330951, 0.06642015861597345, 0.3287797851490685, 0.9517083431656467, 0.032542813260197125, 0.9600129911758152, 0.9844669617265114, 0.006441745930190967, 0.3349707883699303, 0.34141253430012125, 0.3156455505793574, 0.9300856341371133, 0.9470150100301961, 0.03456048403642602, 0.8442632528898356, 0.1135558761196855, 0.0049372120052037175, 0.04050981267834448, 0.008101962535668895, 0.04861177521401337, 0.8912158789235786, 0.3816612557959097, 0.02848218326835147, 0.02848218326835147, 0.017089309961010882, 0.541161482098678, 0.0719841055322081, 0.05758728442576649, 0.10077774774509135, 0.7774283397478476, 0.9280434092104957, 0.029936884168080505, 0.029936884168080505, 0.07344524213737745, 0.11541395193016457, 0.7869133086147584, 0.010492177448196778, 0.904638495443074, 0.01798844058543956, 0.9713757916137363, 0.16790372133563894, 0.08395186066781947, 0.6716148853425558, 0.9528564190348675, 0.03527198623452827, 0.07054397246905654, 0.07054397246905654, 0.7054397246905654, 0.07054397246905654, 0.03441336502232647, 0.8947474905804882, 0.03441336502232647, 0.9301097325988822, 0.903840134074627, 0.06456000957675907, 0.9211690122091747, 0.07369352097673397, 0.0410714810283779, 0.010267870257094474, 0.051339351285472366, 0.8933047123672192, 0.9566329982726341, 0.0375150195401033, 0.026328105854022985, 0.31593727024827584, 0.5792183287885057, 0.05265621170804597, 0.28620853330565227, 0.6869004799335654, 0.03185624933933854, 0.1592812466966927, 0.7964062334834635, 0.9256464688410139, 0.02200070915349446, 0.9240297844467673, 0.05500177288373615, 0.055068969305254505, 0.1982482894989162, 0.011013793861050902, 0.7379241886904103, 0.8647201502415655, 0.12810668892467636, 0.9424926839428651, 0.05334864248733199, 0.8697654819600581, 0.05436034262250363, 0.8921305307953004, 0.0775765678952435, 0.9718741368081788, 0.951717503351367, 0.8368679514662434, 0.10460849393328042, 0.05230424696664021, 0.9578186875390592, 0.8561345703469044, 0.05632464278598055, 0.022529857114392222, 0.011264928557196111, 0.045059714228784443, 0.9502093122757889, 0.032765838354337544, 0.9809865985032884, 0.035464870605141176, 0.1823907631121546, 0.4205120371752454, 0.3445158858785143, 0.015199230259346217, 0.023300705861651495, 0.9553289403277113, 0.022032321715268737, 0.15422625200688117, 0.8151959034649433, 0.22282559788802875, 0.7639734784732414, 0.05284141426911348, 0.05284141426911348, 0.2717558448125836, 0.6114506508283131, 0.8983741089627979, 0.07486450908023316, 0.22187945453977512, 0.21535358822978173, 0.15988372459483796, 0.013051732619986772, 0.38828904544460646, 0.1924323288056389, 0.1374516634325992, 0.6666405676481062, 0.2770769796502792, 0.4958219635847102, 0.21509923420219046, 0.010937249196721548, 0.684912415567056, 0.13045950772705828, 0.17938182312470513, 0.974715346543753, 0.028045062070442963, 0.9535321103950608, 0.9159162950935622, 0.26368825673269264, 0.030135800769450587, 0.14314505365489028, 0.20341665519379146, 0.3540956590410444, 0.2980652757896315, 0.49677545964938585, 0.19871018385975434, 0.9730614541741502, 0.9768462100947958, 0.24174573038717403, 0.30560309313095585, 0.30560309313095585, 0.013683720587953247, 0.13227596568354805, 0.7836299372662828, 0.13931198884733917, 0.052241995817752185, 0.9256513114741095, 0.9410965765066317, 0.026888473614475192, 0.9578246004474836, 0.37405980330450694, 0.06801087332809216, 0.3211624573826575, 0.022670291109364055, 0.21158938368739785, 0.9741549473904456, 0.28914705556109843, 0.012946883084825304, 0.47903467413853623, 0.017262510779767072, 0.20715012935720487, 0.9860063417652591, 0.07951482530703283, 0.874663078377361, 0.13728531506930836, 0.5834625890445605, 0.20592797260396253, 0.06864265753465418, 0.008580332191831772, 0.9469956892201582, 0.8190694719147282, 0.029784344433262843, 0.1340295499496828, 0.899117836542947, 0.10577856900505259, 0.012609753805565664, 0.7313657207228085, 0.20175606088905063, 0.03782926141669699, 0.0074140338084802545, 0.5338104342105783, 0.1927648790204866, 0.17052277759504586, 0.0963824395102433, 0.02900503229464773, 0.11602012917859092, 0.8411459365447842, 0.0480257016764525, 0.9365011826908238, 0.9185247370034219, 0.04142761769272884, 0.7456971184691191, 0.11599732953964074, 0.049713141231274606, 0.049713141231274606, 0.14537888982903407, 0.030287268714382098, 0.5330559293731248, 0.27864287217231526, 0.01817236122862926, 0.7029720983022675, 0.015621602184494834, 0.21870243058292768, 0.0468648065534845, 0.9434523369838731, 0.041019666825385784, 0.9768431741031643, 0.007590279912073784, 0.9943266684816656, 0.9838088129603845, 0.05584493062141436, 0.10052087511854585, 0.022337972248565745, 0.8153359870726496, 0.11069865076087958, 0.04744227889751982, 0.18449775126813264, 0.03162818593167988, 0.627292354311651, 0.9187716782342563, 0.9855314101504213, 0.9639411711420351, 0.04211997866399731, 0.4001397973079745, 0.5264997332999665, 0.0233118426091437, 0.9557855469748918, 0.7408452327477388, 0.0168373916533577, 0.168373916533577, 0.0673495666134308, 0.32358901133774504, 0.006222865602648943, 0.23646889290065984, 0.01866859680794683, 0.41070912977483026, 0.9790896890107278, 0.08232777219122285, 0.07409499497210056, 0.19758665325893485, 0.024698331657366856, 0.6174582914341713, 0.8819263692501319, 0.10755199625001609, 0.04955522463670319, 0.20441530162640068, 0.22919291394475227, 0.012388806159175798, 0.5079410525262077, 0.9730763360115812, 0.951709705007335, 0.9858883092379236, 0.1565800939901768, 0.05924652205033717, 0.18197146058317845, 0.00846378886433388, 0.5924652205033717, 0.3509689198574639, 0.006051188273404551, 0.04235831791383185, 0.5990676390670505, 0.19699973291830122, 0.16416644409858436, 0.6238324875746205, 0.039114605560096584, 0.3285626867048113, 0.320739765592792, 0.30509392336875335, 0.9046428264865372, 0.14717370237100855, 0.14717370237100855, 0.13168173370037606, 0.023237953005948716, 0.549964887807453, 0.01178096411034073, 0.04712385644136292, 0.9424771288272583, 0.016719173731405, 0.050157521194215, 0.919554555227275, 0.9831898306255148, 0.9338892717019851, 0.049152066931683426, 0.08196570731822694, 0.08909316012850754, 0.3278628292729078, 0.49892169671964226, 0.03510906224012336, 0.7841023900294217, 0.05851510373353894, 0.11703020746707787, 0.24165871186106444, 0.6041467796526611, 0.06693917081082622, 0.937148391351567, 0.009732843466913986, 0.7494289469523769, 0.2238553997390217, 0.019465686933827973, 0.02039311611682462, 0.05098279029206155, 0.7851349704977478, 0.03058967417523693, 0.11216213864253541, 0.07045682876017786, 0.3029643636687648, 0.6059287273375296, 0.021137048628053358, 0.016198968892362397, 0.25918350227779835, 0.6965556623715832, 0.016198968892362397, 0.9725472889512979, 0.04146839886652818, 0.953773173930148, 0.023190048030782114, 0.9507919692620667, 0.056562677261490786, 0.08998607746146262, 0.7713092353839652, 0.01028412313845287, 0.0745598927537833, 0.19644035035308868, 0.6449791503259745, 0.16042628612168908, 0.985432718041681, 0.12050210568717737, 0.41712267353253707, 0.4217573699051208, 0.03244287460808622, 0.00926939274516749, 0.1751895576006492, 0.8133800888601569, 0.1932689605654476, 0.29990011122224625, 0.05331557532839933, 0.45318239029139434, 0.9439403116921996, 0.9868209839771626, 0.05792764243120748, 0.2896382121560374, 0.5985856384558107, 0.05792764243120748, 0.18259469515005297, 0.0635111983130619, 0.23022809388484938, 0.5239673860827607, 0.8822560731592088, 0.025948708034094378, 0.07784612410228314, 0.979122066778254, 0.9741526684057152, 0.963472573933924, 0.989074385399902, 0.9528265117236371, 0.05505003614258298, 0.807400530091217, 0.13762509035645745, 0.011304402500600214, 0.13565283000720257, 0.4936255758595427, 0.026376939168067166, 0.32782767251740624, 0.10970901136167104, 0.6682276146574508, 0.1496031973113696, 0.05984127892454784, 0.019947092974849277, 0.762552570014955, 0.14919506804640426, 0.08288614891466903, 0.9352043405511186, 0.03817160573678035, 0.019085802868390175, 0.917939209762182, 0.979147164513337, 0.9256748213294932, 0.3772830856334122, 0.11690461808359251, 0.1487876957427541, 0.09564923297748479, 0.2603784675498197, 0.8124890662796301, 0.15089082659478845, 0.03482095998341272, 0.06159427246005764, 0.7760878329967263, 0.0862319814440807, 0.02463770898402306, 0.04927541796804612, 0.9723968908369192, 0.03889587563347677, 0.6813047703714912, 0.03028021201651072, 0.1514010600825536, 0.01514010600825536, 0.10598074205778753, 0.9860618477954796, 0.844263808278741, 0.05116750353204491, 0.025583751766022456, 0.07675125529806737, 0.021357500171738018, 0.9610875077282107, 0.02156171772357219, 0.19405545951214972, 0.452796072195016, 0.32342576585358285, 0.04775774125325332, 0.9312759544384397, 0.02387887062662666, 0.841369951885518, 0.15297635488827602, 0.3239285314125434, 0.6478570628250868, 0.9860075615450906, 0.01677824617738815, 0.1006694770643289, 0.8624018535177509, 0.01342259694191052, 0.01006694770643289, 0.9470315267248148, 0.023545766014924644, 0.7063729804477393, 0.08241018105223626, 0.18836612811939715, 0.021353576483876587, 0.5893587109549938, 0.3886350920065539, 0.01841990248289803, 0.8841553191791055, 0.09209951241449016, 0.07628658406242185, 0.20706358531228788, 0.6974773399992855, 0.010898083437488836, 0.024737563808353964, 0.3413783805552847, 0.5640164548304704, 0.0692651786633911, 0.9832503707506124, 0.8841658790425608, 0.1105207348803201, 0.04944613676342219, 0.9394765985050216, 0.259706771336907, 0.6752376054759582, 0.9612679176444986, 0.042723018561977716, 0.946488791125955, 0.952652900392869, 0.027218654296939114, 0.011342752605708708, 0.2949115677484264, 0.3743108359883874, 0.2949115677484264, 0.022685505211417416, 0.9750809084793702, 0.9768403988953396, 0.07644785055488124, 0.7166985989520116, 0.20067560770656326, 0.009555981319360154, 0.9116447680965694, 0.07597039734138078, 0.04312640487150912, 0.04312640487150912, 0.23719522679330018, 0.5390800608938641, 0.12937921461452737, 0.8971779567590082, 0.046009125987641446, 0.046009125987641446, 0.011502281496910361, 0.04944612830035648, 0.9394764377067731, 0.3640015683070267, 0.04254563785406806, 0.21272818927034026, 0.07563668951834321, 0.30254675807337283, 0.9118002475876292, 0.04559001237938146, 0.5259217089368756, 0.1102739067125707, 0.2205478134251414, 0.04241304104329642, 0.1102739067125707, 0.9486184299183297, 0.024963642892587623, 0.044575428375139566, 0.9583717100655007, 0.974159075695944, 0.06429667747593426, 0.002521438332389579, 0.4815947214864096, 0.010085753329558316, 0.4425124273343711, 0.026587292510850374, 0.026587292510850374, 0.930555237879763, 0.08676863807691233, 0.15039897266664803, 0.6073804665383863, 0.1561835485384422, 0.8387046340123867, 0.13479181618056216, 0.029953736929013812, 0.4500789265498901, 0.16366506419996005, 0.2618641027199361, 0.016366506419996006, 0.11456554493997204, 0.20609997705509392, 0.5358599403432441, 0.2225879752195014, 0.032975996328815024, 0.9591553245263711, 0.01934022035876507, 0.9670110179382536, 0.019539440262370558, 0.39078880524741116, 0.3614796448538553, 0.18562468249252032, 0.039078880524741115, 0.6389665077890984, 0.2513966588022682, 0.08379888626742274, 0.020949721566855685, 0.43425179239339484, 0.26174080637410096, 0.17845964070961431, 0.029743273451602385, 0.09517847504512764, 0.008075401576004755, 0.2907144567361712, 0.1292064252160761, 0.5006748977122948, 0.06460321260803804, 0.0716261725316046, 0.9311402429108597, 0.9858899031337272, 0.976847721545233, 0.8252089287645274, 0.1650417857529055, 0.9582901527795719, 0.1504070857789509, 0.82723897178423, 0.037601771444737725, 0.17354526776314316, 0.23139369035085758, 0.13980035458697646, 0.24585579599778618, 0.21211088282161944, 0.9688069165035867, 0.963471814784311, 0.9877399224950695, 0.9741594027809171, 0.9730856837573962, 0.0202582778176346, 0.5449476732943708, 0.4071913841344555, 0.02430993338116152, 0.00202582778176346, 0.4602385380527853, 0.3825359277321852, 0.12850816322253097, 0.029885619354076968, 0.2985972002214363, 0.7025816475798502, 0.224566313139325, 0.03962934937752795, 0.26419566251685295, 0.42271306002696474, 0.05283913250337059, 0.2479220140364631, 0.6941816393020966, 0.10361062324280057, 0.8703292352395248, 0.9155906582008508, 0.03703761507923384, 0.925940376980846, 0.06942763081683231, 0.6109631511881244, 0.25688223402227955, 0.04165657849009939, 0.020828289245049696, 0.20515650877314195, 0.7522405321681871, 0.3744959386914301, 0.35179921513437373, 0.2383155973490919, 0.034045085335584556, 0.9416918597765408, 0.03553554187836003, 0.8635719018658123, 0.10159669433715439, 0.01693278238952573, 0.963315638804333, 0.9401648607986166, 0.146758314262745, 0.04193094693221285, 0.12579284079663855, 0.010482736733053213, 0.6708951509154056, 0.1581206596825119, 0.0527068865608373, 0.22588665668930274, 0.03764777611488379, 0.5270688656083731, 0.036049448080320186, 0.05046922731244826, 0.0576791169285123, 0.02162966884819211, 0.8291373058473642, 0.9517258864442056, 0.9688002292594613, 0.9887573654479938, 0.37819917527760494, 0.5943129897219506, 0.33209974368551265, 0.4749026334702831, 0.16937086927961145, 0.01992598462113076, 0.22292960908506598, 0.5162580420917318, 0.14079764784319956, 0.06648777814817756, 0.05084359505448873, 0.02296922553121269, 0.895799795717295, 0.04593845106242538, 0.02296922553121269, 0.9491411756060594, 0.0609189715658375, 0.121837943131675, 0.8122529542111666, 0.017710029160661347, 0.9386315455150515, 0.017710029160661347, 0.10888282802069539, 0.7621797961448677, 0.006805176751293462, 0.12249318152328231, 0.017283497863414342, 0.05185049359024302, 0.9333088846243743, 0.24022024630858205, 0.43732403815152116, 0.04311645446564293, 0.04927594796073478, 0.22790125931839836, 0.27104302401460656, 0.1025568198974187, 0.2197646140658972, 0.04029017924541449, 0.36627435677649534, 0.966611080643811, 0.24360344959163419, 0.10591454330071051, 0.5401641708336237, 0.11121027046574604, 0.9570291314565137, 0.1324057276961162, 0.1324057276961162, 0.7355873760895344, 0.09366222854621184, 0.08429600569159065, 0.7680302740789371, 0.02809866856386355, 0.02809866856386355, 0.9741593350849033, 0.03639508390049874, 0.01819754195024937, 0.03639508390049874, 0.8916795555622192, 0.5725701122719187, 0.022902804490876748, 0.14886822919069886, 0.2519308493996442, 0.9688104492074915, 0.2503359005466261, 0.34661893921840536, 0.23878193590601257, 0.011553964640613512, 0.15405286187484682, 0.11726942414147382, 0.2501747715018108, 0.46125973495646366, 0.007817961609431587, 0.16026821299334754, 0.024098589710793976, 0.0963943588431759, 0.8675492295885832, 0.9713210155053551, 0.9740997821452454, 0.04939817702106698, 0.04939817702106698, 0.8891671863792057, 0.06418903495633792, 0.866551971910562, 0.06418903495633792, 0.05912867260196978, 0.07391084075246222, 0.21434143818214046, 0.6504153986216676], \"Term\": [\"000\", \"000\", \"000\", \"000\", \"000\", \"1960\", \"1960\", \"1960\", \"63\", \"63\", \"academic\", \"academic\", \"accommodate\", \"accommodate\", \"act\", \"act\", \"act\", \"act\", \"activities\", \"activities\", \"activities\", \"administration\", \"administration\", \"administration\", \"alexander\", \"alexander\", \"amateur\", \"american\", \"american\", \"american\", \"american\", \"american\", \"area\", \"area\", \"area\", \"area\", \"area\", \"asked\", \"asked\", \"asked\", \"asked\", \"asked\", \"assessment\", \"assessment\", \"aug\", \"available\", \"available\", \"available\", \"available\", \"available\", \"away\", \"away\", \"away\", \"away\", \"baby\", \"baby\", \"ball\", \"ball\", \"baseball\", \"bat\", \"battery\", \"battery\", \"bed\", \"bed\", \"bed\", \"berlin\", \"best\", \"best\", \"best\", \"best\", \"best\", \"better\", \"better\", \"better\", \"better\", \"better\", \"blocks\", \"blocks\", \"blocks\", \"board\", \"board\", \"board\", \"board\", \"board\", \"boat\", \"boat\", \"boat\", \"boat\", \"boats\", \"boats\", \"boats\", \"bob\", \"bob\", \"bombs\", \"boy\", \"boy\", \"boy\", \"bridge\", \"bridge\", \"business\", \"business\", \"business\", \"business\", \"business\", \"came\", \"came\", \"came\", \"came\", \"castro\", \"catastrophe\", \"catastrophe\", \"cattle\", \"cattle\", \"cattle\", \"center\", \"center\", \"center\", \"center\", \"charlie\", \"charter\", \"chemical\", \"chemical\", \"chemical\", \"chest\", \"chest\", \"child\", \"child\", \"child\", \"child\", \"city\", \"city\", \"city\", \"city\", \"city\", \"claim\", \"claim\", \"claim\", \"claims\", \"claims\", \"claims\", \"claims\", \"class\", \"class\", \"class\", \"class\", \"class\", \"clay\", \"clay\", \"clay\", \"clay\", \"club\", \"club\", \"club\", \"club\", \"coach\", \"college\", \"college\", \"college\", \"college\", \"college\", \"come\", \"come\", \"come\", \"come\", \"come\", \"committee\", \"committee\", \"committee\", \"communism\", \"communist\", \"communist\", \"communist\", \"communists\", \"company\", \"company\", \"company\", \"company\", \"company\", \"comprehensive\", \"concrete\", \"concrete\", \"concrete\", \"congo\", \"conversion\", \"conversion\", \"conversion\", \"cooling\", \"cooling\", \"cooling\", \"corps\", \"corps\", \"corps\", \"couldn\", \"couldn\", \"couldn\", \"council\", \"council\", \"council\", \"council\", \"county\", \"county\", \"court\", \"court\", \"court\", \"court\", \"coverage\", \"coverage\", \"creative\", \"creative\", \"credit\", \"credit\", \"credit\", \"credit\", \"cuba\", \"curriculum\", \"cut\", \"cut\", \"cut\", \"cut\", \"dad\", \"daily\", \"daily\", \"daily\", \"day\", \"day\", \"day\", \"day\", \"day\", \"dear\", \"democratic\", \"democratic\", \"democrats\", \"department\", \"department\", \"department\", \"department\", \"depreciation\", \"designers\", \"development\", \"development\", \"development\", \"development\", \"didn\", \"didn\", \"didn\", \"didn\", \"don\", \"don\", \"don\", \"don\", \"don\", \"door\", \"door\", \"door\", \"door\", \"drill\", \"drill\", \"drill\", \"east\", \"east\", \"east\", \"east\", \"educated\", \"election\", \"election\", \"electricity\", \"electricity\", \"electricity\", \"employee\", \"engine\", \"engine\", \"engine\", \"engine\", \"engine\", \"engineers\", \"engineers\", \"engineers\", \"evaluation\", \"exceed\", \"exceed\", \"expenditures\", \"expenditures\", \"eyes\", \"eyes\", \"eyes\", \"eyes\", \"faculty\", \"faculty\", \"farm\", \"farm\", \"farm\", \"farm\", \"farmers\", \"farmers\", \"father\", \"father\", \"father\", \"favorite\", \"feed\", \"feed\", \"feed\", \"felt\", \"felt\", \"felt\", \"felt\", \"fig\", \"fig\", \"fiscal\", \"fiscal\", \"fishing\", \"fishing\", \"football\", \"football\", \"forests\", \"fountain\", \"frame\", \"frame\", \"frame\", \"gallery\", \"game\", \"game\", \"game\", \"game\", \"game\", \"games\", \"games\", \"gen\", \"general\", \"general\", \"general\", \"general\", \"general\", \"georgia\", \"georgia\", \"girl\", \"girl\", \"girl\", \"god\", \"god\", \"going\", \"going\", \"going\", \"going\", \"golf\", \"golf\", \"good\", \"good\", \"good\", \"good\", \"good\", \"got\", \"got\", \"got\", \"government\", \"government\", \"government\", \"government\", \"green\", \"green\", \"green\", \"hadn\", \"hair\", \"hair\", \"handsome\", \"head\", \"head\", \"head\", \"head\", \"head\", \"hearing\", \"hearing\", \"hearing\", \"heel\", \"hell\", \"high\", \"high\", \"high\", \"high\", \"high\", \"hit\", \"hit\", \"hit\", \"hits\", \"hole\", \"hole\", \"holes\", \"home\", \"home\", \"home\", \"home\", \"home\", \"homer\", \"house\", \"house\", \"house\", \"house\", \"house\", \"hughes\", \"import\", \"import\", \"important\", \"important\", \"important\", \"important\", \"important\", \"imports\", \"inch\", \"inch\", \"inch\", \"india\", \"india\", \"industrial\", \"industrial\", \"industrial\", \"industrial\", \"interest\", \"interest\", \"interest\", \"interest\", \"interest\", \"interference\", \"interference\", \"interference\", \"interior\", \"interior\", \"inventory\", \"island\", \"island\", \"island\", \"island\", \"island\", \"john\", \"john\", \"john\", \"john\", \"john\", \"junior\", \"junior\", \"junior\", \"junior\", \"jury\", \"jury\", \"katanga\", \"kennedy\", \"kennedy\", \"khrushchev\", \"knew\", \"knew\", \"knew\", \"knew\", \"know\", \"know\", \"know\", \"know\", \"know\", \"laboratories\", \"laos\", \"laughed\", \"laws\", \"laws\", \"laws\", \"leader\", \"leader\", \"league\", \"league\", \"league\", \"league\", \"left\", \"left\", \"left\", \"left\", \"left\", \"leg\", \"let\", \"let\", \"let\", \"let\", \"let\", \"library\", \"library\", \"life\", \"life\", \"life\", \"life\", \"life\", \"liked\", \"lips\", \"listening\", \"little\", \"little\", \"little\", \"little\", \"little\", \"ll\", \"ll\", \"ll\", \"ll\", \"loans\", \"loans\", \"loans\", \"local\", \"local\", \"local\", \"local\", \"locations\", \"look\", \"look\", \"look\", \"look\", \"look\", \"looked\", \"looked\", \"looked\", \"love\", \"love\", \"love\", \"loved\", \"maintain\", \"maintain\", \"man\", \"man\", \"man\", \"man\", \"management\", \"management\", \"management\", \"management\", \"manufactured\", \"manufactured\", \"mayor\", \"mayor\", \"medical\", \"medical\", \"medical\", \"medical\", \"meeting\", \"meeting\", \"meeting\", \"meeting\", \"meeting\", \"members\", \"members\", \"members\", \"members\", \"military\", \"military\", \"military\", \"military\", \"moscow\", \"mother\", \"mother\", \"motors\", \"motors\", \"mr\", \"mr\", \"mr\", \"mr\", \"mr\", \"mrs\", \"mrs\", \"mrs\", \"musical\", \"national\", \"national\", \"national\", \"national\", \"national\", \"nations\", \"nations\", \"night\", \"night\", \"night\", \"night\", \"nodded\", \"nuclear\", \"officer\", \"officer\", \"officer\", \"officer\", \"old\", \"old\", \"old\", \"old\", \"organizations\", \"organizations\", \"organizations\", \"paint\", \"paintings\", \"pale\", \"panels\", \"participation\", \"party\", \"party\", \"party\", \"people\", \"people\", \"people\", \"people\", \"people\", \"period\", \"period\", \"period\", \"period\", \"period\", \"piece\", \"piece\", \"piece\", \"pieces\", \"pieces\", \"pieces\", \"pitcher\", \"pitching\", \"pittsburgh\", \"place\", \"place\", \"place\", \"place\", \"place\", \"planning\", \"planning\", \"planning\", \"plant\", \"plant\", \"plant\", \"plant\", \"plant\", \"plastic\", \"plastic\", \"play\", \"play\", \"play\", \"play\", \"play\", \"player\", \"playing\", \"playing\", \"playing\", \"playing\", \"police\", \"police\", \"policy\", \"policy\", \"policy\", \"policy\", \"political\", \"political\", \"political\", \"pool\", \"pool\", \"pound\", \"pound\", \"premier\", \"president\", \"president\", \"president\", \"president\", \"president\", \"producers\", \"production\", \"production\", \"production\", \"production\", \"program\", \"program\", \"program\", \"projects\", \"projects\", \"projects\", \"property\", \"property\", \"property\", \"property\", \"public\", \"public\", \"public\", \"public\", \"publications\", \"published\", \"published\", \"puerto\", \"puerto\", \"ratio\", \"ratio\", \"rayburn\", \"rayburn\", \"recommendation\", \"recreation\", \"recreation\", \"report\", \"report\", \"report\", \"report\", \"report\", \"republican\", \"republicans\", \"research\", \"research\", \"research\", \"research\", \"resources\", \"resources\", \"respect\", \"respect\", \"respect\", \"respect\", \"respect\", \"rhode\", \"rhode\", \"rhode\", \"rhode\", \"rico\", \"rico\", \"right\", \"right\", \"right\", \"right\", \"right\", \"roy\", \"roy\", \"run\", \"run\", \"run\", \"run\", \"run\", \"runs\", \"runs\", \"russia\", \"russia\", \"ruth\", \"said\", \"said\", \"said\", \"said\", \"said\", \"sat\", \"sat\", \"sat\", \"school\", \"school\", \"school\", \"school\", \"season\", \"season\", \"season\", \"second\", \"second\", \"second\", \"second\", \"second\", \"secretary\", \"secretary\", \"secretary\", \"secretary\", \"sen\", \"senate\", \"senate\", \"service\", \"service\", \"service\", \"service\", \"service\", \"services\", \"services\", \"services\", \"services\", \"set\", \"set\", \"set\", \"set\", \"set\", \"shall\", \"shall\", \"shall\", \"shall\", \"shall\", \"shelter\", \"shelter\", \"shoes\", \"sick\", \"signs\", \"signs\", \"silent\", \"site\", \"site\", \"site\", \"small\", \"small\", \"small\", \"small\", \"small\", \"smile\", \"smiled\", \"soviet\", \"stadium\", \"stared\", \"state\", \"state\", \"state\", \"state\", \"state\", \"states\", \"states\", \"states\", \"states\", \"stations\", \"stations\", \"stock\", \"stock\", \"stock\", \"stock\", \"stock\", \"stockholders\", \"stockholders\", \"stood\", \"stood\", \"strange\", \"susan\", \"susan\", \"system\", \"system\", \"system\", \"system\", \"system\", \"tangible\", \"tangible\", \"tax\", \"tax\", \"tax\", \"tax\", \"team\", \"team\", \"technical\", \"technical\", \"technical\", \"textile\", \"thereof\", \"thing\", \"thing\", \"thing\", \"thing\", \"thing\", \"think\", \"think\", \"think\", \"think\", \"think\", \"thought\", \"thought\", \"thought\", \"thought\", \"thought\", \"till\", \"tongue\", \"troops\", \"trust\", \"trust\", \"united\", \"united\", \"united\", \"united\", \"use\", \"use\", \"use\", \"use\", \"use\", \"vehicles\", \"vehicles\", \"vehicles\", \"vehicles\", \"vernon\", \"voice\", \"voice\", \"voice\", \"vote\", \"vote\", \"vote\", \"war\", \"war\", \"war\", \"war\", \"wasn\", \"wasn\", \"wasn\", \"water\", \"water\", \"water\", \"water\", \"water\", \"way\", \"way\", \"way\", \"way\", \"way\", \"weapons\", \"week\", \"week\", \"week\", \"week\", \"welfare\", \"went\", \"went\", \"went\", \"west\", \"west\", \"west\", \"west\", \"west\", \"willie\", \"woman\", \"woman\", \"woman\", \"woman\", \"won\", \"won\", \"won\", \"won\", \"wondered\", \"work\", \"work\", \"work\", \"work\", \"work\", \"world\", \"world\", \"world\", \"world\", \"world\", \"wouldn\", \"wouldn\", \"wouldn\", \"yankees\", \"yards\", \"yes\", \"yes\", \"yes\", \"yesterday\", \"yesterday\", \"yesterday\", \"young\", \"young\", \"young\", \"young\"]}, \"R\": 30, \"lambda.step\": 0.01, \"plot.opts\": {\"xlab\": \"PC1\", \"ylab\": \"PC2\"}, \"topic.order\": [1, 2, 3, 4, 5]};\n",
       "\n",
       "function LDAvis_load_lib(url, callback){\n",
       "  var s = document.createElement('script');\n",
       "  s.src = url;\n",
       "  s.async = true;\n",
       "  s.onreadystatechange = s.onload = callback;\n",
       "  s.onerror = function(){console.warn(\"failed to load library \" + url);};\n",
       "  document.getElementsByTagName(\"head\")[0].appendChild(s);\n",
       "}\n",
       "\n",
       "if(typeof(LDAvis) !== \"undefined\"){\n",
       "   // already loaded: just create the visualization\n",
       "   !function(LDAvis){\n",
       "       new LDAvis(\"#\" + \"ldavis_el43331404551704324649001919953\", ldavis_el43331404551704324649001919953_data);\n",
       "   }(LDAvis);\n",
       "}else if(typeof define === \"function\" && define.amd){\n",
       "   // require.js is available: use it to load d3/LDAvis\n",
       "   require.config({paths: {d3: \"https://d3js.org/d3.v5\"}});\n",
       "   require([\"d3\"], function(d3){\n",
       "      window.d3 = d3;\n",
       "      LDAvis_load_lib(\"https://cdn.jsdelivr.net/gh/bmabey/pyLDAvis@3.4.0/pyLDAvis/js/ldavis.v3.0.0.js\", function(){\n",
       "        new LDAvis(\"#\" + \"ldavis_el43331404551704324649001919953\", ldavis_el43331404551704324649001919953_data);\n",
       "      });\n",
       "    });\n",
       "}else{\n",
       "    // require.js not available: dynamically load d3 & LDAvis\n",
       "    LDAvis_load_lib(\"https://d3js.org/d3.v5.js\", function(){\n",
       "         LDAvis_load_lib(\"https://cdn.jsdelivr.net/gh/bmabey/pyLDAvis@3.4.0/pyLDAvis/js/ldavis.v3.0.0.js\", function(){\n",
       "                 new LDAvis(\"#\" + \"ldavis_el43331404551704324649001919953\", ldavis_el43331404551704324649001919953_data);\n",
       "            })\n",
       "         });\n",
       "}\n",
       "</script>"
      ],
      "text/plain": [
       "<IPython.core.display.HTML object>"
      ]
     },
     "execution_count": 27,
     "metadata": {},
     "output_type": "execute_result"
    }
   ],
   "source": [
    "pyLDAvis.display(lda_display)"
   ]
  },
  {
   "cell_type": "markdown",
   "id": "a3d14c87",
   "metadata": {},
   "source": [
    "Q: What conclusions do you draw from the visualization above? Please address the principal component scatterplot and the salient terms graph.\n",
    "\n",
    "A: The visualization above offers insights into the thematic distribution and content of the topics generated by the LDA model. In the scatterplot, the proximity of topics indicates potential thematic similarities or differences, with some clustering suggesting related content, suggesting at distinct themes. For instance, topics 2 and 4 appear relatively close, possibly indicating thematic overlap, while topics 3 and 5 seem more separated, suggesting distinct content areas. \n",
    "\n",
    "Analyzing the salient terms for each topic emphasizes their thematic content. Terms like \"home,\" \"right,\" and \"game\" in topic 0 suggest discussions related to leisure or personal activities, while \"state,\" \"development,\" and \"program\" in topic 1 hint at government initiatives. \"Said,\" \"mr,\" and \"president\" in topic 2 point to political discussions, while \"feed,\" \"general,\" and \"business\" in topic 3 indicate economic topics. Finally, topic 4's terms, including \"said,\" \"man,\" and \"little,\" seem more general in nature. The visualizationS underscores the LDA model's ability to uncover the themes within the corpus and provides valuable insights into the distribution and content of these topics."
   ]
  }
 ],
 "metadata": {
  "kernelspec": {
   "display_name": "Python 3 (ipykernel)",
   "language": "python",
   "name": "python3"
  },
  "language_info": {
   "codemirror_mode": {
    "name": "ipython",
    "version": 3
   },
   "file_extension": ".py",
   "mimetype": "text/x-python",
   "name": "python",
   "nbconvert_exporter": "python",
   "pygments_lexer": "ipython3",
   "version": "3.9.13"
  }
 },
 "nbformat": 4,
 "nbformat_minor": 5
}
